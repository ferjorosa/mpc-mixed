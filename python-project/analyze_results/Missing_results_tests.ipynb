{
 "cells": [
  {
   "cell_type": "code",
   "execution_count": 9,
   "metadata": {},
   "outputs": [],
   "source": [
    "directories = {\n",
    "    \"discrete\": [\n",
    "        \"hiv_test\", \n",
    "        \"hayes_roth\",\n",
    "        \"balance_scale\", \n",
    "        \"car_evaluation\",\n",
    "        \"nursery\", \n",
    "        \"breast_cancer\", \n",
    "        \"web_phishing\",\n",
    "        \"solar_flare\",\n",
    "        \"zoo\",\n",
    "        \"vote\", \n",
    "        \"spect_heart\",\n",
    "        \"alarm\"\n",
    "    ],\n",
    "    \"continuous\" : [\n",
    "        \"real_state_valuation\", \n",
    "        \"buddymove\", \n",
    "        \"qsar_fish_toxicity\", \n",
    "        \"qsar_aqua_toxicity\", \n",
    "        \"ilpd\",\n",
    "        \"alcohol\",\n",
    "        \"travel_reviews\",\n",
    "        \"wine_quality_white\", \n",
    "        \"wine\", \n",
    "        \"leaf\", \n",
    "        \"nba\", \n",
    "        \"wdbc\"\n",
    "    ],\n",
    "    \"mixed\": [\n",
    "        \"haberman\", \n",
    "        \"iris\", \n",
    "        \"user_knowledge\",\n",
    "        \"vertebral\", \n",
    "        \"ecoli\", \n",
    "        \"planning_relax\", \n",
    "        \"thoracic_surgery\",\n",
    "        \"vehicle\", \n",
    "        \"thyroid\",\n",
    "        \"parkinsons\", \n",
    "        \"autos\", \n",
    "        \"ionosphere\"\n",
    "    ]\n",
    "}\n"
   ]
  },
  {
   "cell_type": "markdown",
   "metadata": {},
   "source": [
    "# 1 - Accuracy error\n",
    "\n",
    "Iteramos por los datasets de los directorios de **discrete** y **mixed**, agrupando sus accuracy errors"
   ]
  },
  {
   "cell_type": "code",
   "execution_count": 10,
   "metadata": {},
   "outputs": [],
   "source": [
    "import pandas as pd\n",
    "import json\n",
    "import statistics as stats\n",
    "from os import listdir\n",
    "import numpy as np\n",
    "\n",
    "methods = [\n",
    "    \"MEAN\", \n",
    "    \"MICE\", \n",
    "    \"GLFM\", \n",
    "    \"HIVAE\", \n",
    "    \"VBSEM\",\n",
    "    \"glsl_EMPTY\"\n",
    "]\n",
    "max_percentage = 6\n",
    "n_runs = 5\n",
    "accuracy_error_dfs = []\n",
    "selected_directories = [\"discrete\", \"mixed\"]\n",
    "\n",
    "\n",
    "# Iterate through the missing percentage values, and for each dataset, recover the methods' results\n",
    "for i in range(1, max_percentage):\n",
    "    miss_percentage_string = \"0\" + str(i)\n",
    "\n",
    "    df_error_results = pd.DataFrame()\n",
    "    \n",
    "    for directory in selected_directories:\n",
    "        \n",
    "        data_names = directories[directory]\n",
    "        \n",
    "        for data_name in data_names:\n",
    "            error_results = {\"dataset\": data_name}\n",
    "            for method_name in methods:\n",
    "\n",
    "                json_name = data_name + \"_\" + miss_percentage_string + \"_results_\" + method_name + \".json\"\n",
    "                full_path = \"../../missing_results/\"+ directory +\"/\"+data_name+\"/\"+json_name\n",
    "                with open(full_path) as json_file:\n",
    "                    json_data = json.load(json_file)\n",
    "                    runs_data = json_data[\"runs\"]\n",
    "                    errors = []\n",
    "                    learning_times = []\n",
    "                    for i in range(1, n_runs + 1):\n",
    "                        errors.append(1.0 - runs_data[\"run_\" + str(i)][\"accuracy\"]) \n",
    "\n",
    "                    avg_error = stats.mean(errors)\n",
    "                    stdev_error = stats.stdev(errors)\n",
    "\n",
    "                    error_results[method_name] = avg_error\n",
    "\n",
    "            df_error_results = df_error_results.append(error_results, ignore_index=True)\n",
    "\n",
    "    accuracy_error_dfs.append(df_error_results)\n",
    "\n",
    "for i in range(0, max_percentage-1):\n",
    "    accuracy_error_dfs[i][\"GLSL\"] = accuracy_error_dfs[i][['VBSEM','glsl_EMPTY']].min(axis=1)"
   ]
  },
  {
   "cell_type": "code",
   "execution_count": 11,
   "metadata": {},
   "outputs": [
    {
     "data": {
      "text/html": [
       "<div>\n",
       "<style scoped>\n",
       "    .dataframe tbody tr th:only-of-type {\n",
       "        vertical-align: middle;\n",
       "    }\n",
       "\n",
       "    .dataframe tbody tr th {\n",
       "        vertical-align: top;\n",
       "    }\n",
       "\n",
       "    .dataframe thead th {\n",
       "        text-align: right;\n",
       "    }\n",
       "</style>\n",
       "<table border=\"1\" class=\"dataframe\">\n",
       "  <thead>\n",
       "    <tr style=\"text-align: right;\">\n",
       "      <th></th>\n",
       "      <th>GLFM</th>\n",
       "      <th>HIVAE</th>\n",
       "      <th>MEAN</th>\n",
       "      <th>MICE</th>\n",
       "      <th>VBSEM</th>\n",
       "      <th>dataset</th>\n",
       "      <th>glsl_EMPTY</th>\n",
       "      <th>GLSL</th>\n",
       "    </tr>\n",
       "  </thead>\n",
       "  <tbody>\n",
       "    <tr>\n",
       "      <th>0</th>\n",
       "      <td>0.122807</td>\n",
       "      <td>0.072037</td>\n",
       "      <td>0.418713</td>\n",
       "      <td>0.090058</td>\n",
       "      <td>0.088889</td>\n",
       "      <td>hiv_test</td>\n",
       "      <td>0.130503</td>\n",
       "      <td>0.088889</td>\n",
       "    </tr>\n",
       "    <tr>\n",
       "      <th>1</th>\n",
       "      <td>0.622500</td>\n",
       "      <td>0.617484</td>\n",
       "      <td>0.672500</td>\n",
       "      <td>0.565000</td>\n",
       "      <td>0.475000</td>\n",
       "      <td>hayes_roth</td>\n",
       "      <td>0.475147</td>\n",
       "      <td>0.475000</td>\n",
       "    </tr>\n",
       "    <tr>\n",
       "      <th>2</th>\n",
       "      <td>0.667308</td>\n",
       "      <td>0.498553</td>\n",
       "      <td>0.808974</td>\n",
       "      <td>0.654487</td>\n",
       "      <td>0.589103</td>\n",
       "      <td>balance_scale</td>\n",
       "      <td>0.587602</td>\n",
       "      <td>0.587602</td>\n",
       "    </tr>\n",
       "    <tr>\n",
       "      <th>3</th>\n",
       "      <td>0.591894</td>\n",
       "      <td>0.612227</td>\n",
       "      <td>0.680397</td>\n",
       "      <td>0.604963</td>\n",
       "      <td>0.579322</td>\n",
       "      <td>car_evaluation</td>\n",
       "      <td>0.574193</td>\n",
       "      <td>0.574193</td>\n",
       "    </tr>\n",
       "    <tr>\n",
       "      <th>4</th>\n",
       "      <td>0.625257</td>\n",
       "      <td>0.567458</td>\n",
       "      <td>0.691564</td>\n",
       "      <td>0.667061</td>\n",
       "      <td>0.557990</td>\n",
       "      <td>nursery</td>\n",
       "      <td>0.556015</td>\n",
       "      <td>0.556015</td>\n",
       "    </tr>\n",
       "    <tr>\n",
       "      <th>5</th>\n",
       "      <td>0.449819</td>\n",
       "      <td>0.379871</td>\n",
       "      <td>0.450542</td>\n",
       "      <td>0.380505</td>\n",
       "      <td>0.373285</td>\n",
       "      <td>breast_cancer</td>\n",
       "      <td>0.359462</td>\n",
       "      <td>0.359462</td>\n",
       "    </tr>\n",
       "    <tr>\n",
       "      <th>6</th>\n",
       "      <td>0.413895</td>\n",
       "      <td>0.347323</td>\n",
       "      <td>0.474353</td>\n",
       "      <td>0.419364</td>\n",
       "      <td>0.287509</td>\n",
       "      <td>web_phishing</td>\n",
       "      <td>0.276734</td>\n",
       "      <td>0.276734</td>\n",
       "    </tr>\n",
       "    <tr>\n",
       "      <th>7</th>\n",
       "      <td>0.284875</td>\n",
       "      <td>0.190265</td>\n",
       "      <td>0.273463</td>\n",
       "      <td>0.254958</td>\n",
       "      <td>0.179945</td>\n",
       "      <td>solar_flare</td>\n",
       "      <td>0.196490</td>\n",
       "      <td>0.179945</td>\n",
       "    </tr>\n",
       "    <tr>\n",
       "      <th>8</th>\n",
       "      <td>0.195322</td>\n",
       "      <td>0.097538</td>\n",
       "      <td>0.316959</td>\n",
       "      <td>0.116959</td>\n",
       "      <td>0.088889</td>\n",
       "      <td>zoo</td>\n",
       "      <td>0.099664</td>\n",
       "      <td>0.088889</td>\n",
       "    </tr>\n",
       "    <tr>\n",
       "      <th>9</th>\n",
       "      <td>0.260406</td>\n",
       "      <td>0.191786</td>\n",
       "      <td>0.419289</td>\n",
       "      <td>0.187310</td>\n",
       "      <td>0.206091</td>\n",
       "      <td>vote</td>\n",
       "      <td>0.188649</td>\n",
       "      <td>0.188649</td>\n",
       "    </tr>\n",
       "    <tr>\n",
       "      <th>10</th>\n",
       "      <td>0.298371</td>\n",
       "      <td>0.173055</td>\n",
       "      <td>0.308143</td>\n",
       "      <td>0.162541</td>\n",
       "      <td>0.165147</td>\n",
       "      <td>spect_heart</td>\n",
       "      <td>0.174157</td>\n",
       "      <td>0.165147</td>\n",
       "    </tr>\n",
       "    <tr>\n",
       "      <th>11</th>\n",
       "      <td>0.201351</td>\n",
       "      <td>0.085031</td>\n",
       "      <td>0.241189</td>\n",
       "      <td>0.072541</td>\n",
       "      <td>0.049189</td>\n",
       "      <td>alarm</td>\n",
       "      <td>0.052272</td>\n",
       "      <td>0.049189</td>\n",
       "    </tr>\n",
       "    <tr>\n",
       "      <th>12</th>\n",
       "      <td>0.287931</td>\n",
       "      <td>0.281265</td>\n",
       "      <td>0.281871</td>\n",
       "      <td>0.300053</td>\n",
       "      <td>0.296021</td>\n",
       "      <td>haberman</td>\n",
       "      <td>0.301223</td>\n",
       "      <td>0.296021</td>\n",
       "    </tr>\n",
       "    <tr>\n",
       "      <th>13</th>\n",
       "      <td>0.216921</td>\n",
       "      <td>0.110479</td>\n",
       "      <td>0.739012</td>\n",
       "      <td>0.014286</td>\n",
       "      <td>0.040336</td>\n",
       "      <td>iris</td>\n",
       "      <td>0.142751</td>\n",
       "      <td>0.040336</td>\n",
       "    </tr>\n",
       "    <tr>\n",
       "      <th>14</th>\n",
       "      <td>0.299656</td>\n",
       "      <td>0.351205</td>\n",
       "      <td>0.716959</td>\n",
       "      <td>0.721431</td>\n",
       "      <td>0.162020</td>\n",
       "      <td>user_knowledge</td>\n",
       "      <td>0.038824</td>\n",
       "      <td>0.038824</td>\n",
       "    </tr>\n",
       "    <tr>\n",
       "      <th>15</th>\n",
       "      <td>0.471920</td>\n",
       "      <td>0.250850</td>\n",
       "      <td>0.531490</td>\n",
       "      <td>0.579909</td>\n",
       "      <td>0.497697</td>\n",
       "      <td>vertebral</td>\n",
       "      <td>0.067049</td>\n",
       "      <td>0.067049</td>\n",
       "    </tr>\n",
       "    <tr>\n",
       "      <th>16</th>\n",
       "      <td>0.310672</td>\n",
       "      <td>0.257108</td>\n",
       "      <td>0.610989</td>\n",
       "      <td>0.732143</td>\n",
       "      <td>0.179772</td>\n",
       "      <td>ecoli</td>\n",
       "      <td>0.121955</td>\n",
       "      <td>0.121955</td>\n",
       "    </tr>\n",
       "    <tr>\n",
       "      <th>17</th>\n",
       "      <td>0.338889</td>\n",
       "      <td>0.306508</td>\n",
       "      <td>0.306508</td>\n",
       "      <td>0.306508</td>\n",
       "      <td>0.306508</td>\n",
       "      <td>planning_relax</td>\n",
       "      <td>0.132227</td>\n",
       "      <td>0.132227</td>\n",
       "    </tr>\n",
       "    <tr>\n",
       "      <th>18</th>\n",
       "      <td>0.189591</td>\n",
       "      <td>0.177528</td>\n",
       "      <td>0.194274</td>\n",
       "      <td>0.167273</td>\n",
       "      <td>0.205739</td>\n",
       "      <td>thoracic_surgery</td>\n",
       "      <td>0.156532</td>\n",
       "      <td>0.156532</td>\n",
       "    </tr>\n",
       "    <tr>\n",
       "      <th>19</th>\n",
       "      <td>0.426754</td>\n",
       "      <td>0.412683</td>\n",
       "      <td>0.788693</td>\n",
       "      <td>0.527211</td>\n",
       "      <td>0.364272</td>\n",
       "      <td>vehicle</td>\n",
       "      <td>0.644102</td>\n",
       "      <td>0.364272</td>\n",
       "    </tr>\n",
       "    <tr>\n",
       "      <th>20</th>\n",
       "      <td>0.085453</td>\n",
       "      <td>0.077277</td>\n",
       "      <td>0.080764</td>\n",
       "      <td>0.083913</td>\n",
       "      <td>0.080400</td>\n",
       "      <td>thyroid</td>\n",
       "      <td>0.083078</td>\n",
       "      <td>0.080400</td>\n",
       "    </tr>\n",
       "    <tr>\n",
       "      <th>21</th>\n",
       "      <td>0.271602</td>\n",
       "      <td>0.135368</td>\n",
       "      <td>0.150660</td>\n",
       "      <td>0.124978</td>\n",
       "      <td>0.150660</td>\n",
       "      <td>parkinsons</td>\n",
       "      <td>0.143520</td>\n",
       "      <td>0.143520</td>\n",
       "    </tr>\n",
       "    <tr>\n",
       "      <th>22</th>\n",
       "      <td>0.354740</td>\n",
       "      <td>0.223733</td>\n",
       "      <td>0.416611</td>\n",
       "      <td>0.363453</td>\n",
       "      <td>0.172447</td>\n",
       "      <td>autos</td>\n",
       "      <td>0.264235</td>\n",
       "      <td>0.172447</td>\n",
       "    </tr>\n",
       "    <tr>\n",
       "      <th>23</th>\n",
       "      <td>0.090515</td>\n",
       "      <td>0.136389</td>\n",
       "      <td>0.373448</td>\n",
       "      <td>0.133778</td>\n",
       "      <td>0.626552</td>\n",
       "      <td>ionosphere</td>\n",
       "      <td>0.626569</td>\n",
       "      <td>0.626552</td>\n",
       "    </tr>\n",
       "  </tbody>\n",
       "</table>\n",
       "</div>"
      ],
      "text/plain": [
       "        GLFM     HIVAE      MEAN      MICE     VBSEM           dataset  \\\n",
       "0   0.122807  0.072037  0.418713  0.090058  0.088889          hiv_test   \n",
       "1   0.622500  0.617484  0.672500  0.565000  0.475000        hayes_roth   \n",
       "2   0.667308  0.498553  0.808974  0.654487  0.589103     balance_scale   \n",
       "3   0.591894  0.612227  0.680397  0.604963  0.579322    car_evaluation   \n",
       "4   0.625257  0.567458  0.691564  0.667061  0.557990           nursery   \n",
       "5   0.449819  0.379871  0.450542  0.380505  0.373285     breast_cancer   \n",
       "6   0.413895  0.347323  0.474353  0.419364  0.287509      web_phishing   \n",
       "7   0.284875  0.190265  0.273463  0.254958  0.179945       solar_flare   \n",
       "8   0.195322  0.097538  0.316959  0.116959  0.088889               zoo   \n",
       "9   0.260406  0.191786  0.419289  0.187310  0.206091              vote   \n",
       "10  0.298371  0.173055  0.308143  0.162541  0.165147       spect_heart   \n",
       "11  0.201351  0.085031  0.241189  0.072541  0.049189             alarm   \n",
       "12  0.287931  0.281265  0.281871  0.300053  0.296021          haberman   \n",
       "13  0.216921  0.110479  0.739012  0.014286  0.040336              iris   \n",
       "14  0.299656  0.351205  0.716959  0.721431  0.162020    user_knowledge   \n",
       "15  0.471920  0.250850  0.531490  0.579909  0.497697         vertebral   \n",
       "16  0.310672  0.257108  0.610989  0.732143  0.179772             ecoli   \n",
       "17  0.338889  0.306508  0.306508  0.306508  0.306508    planning_relax   \n",
       "18  0.189591  0.177528  0.194274  0.167273  0.205739  thoracic_surgery   \n",
       "19  0.426754  0.412683  0.788693  0.527211  0.364272           vehicle   \n",
       "20  0.085453  0.077277  0.080764  0.083913  0.080400           thyroid   \n",
       "21  0.271602  0.135368  0.150660  0.124978  0.150660        parkinsons   \n",
       "22  0.354740  0.223733  0.416611  0.363453  0.172447             autos   \n",
       "23  0.090515  0.136389  0.373448  0.133778  0.626552        ionosphere   \n",
       "\n",
       "    glsl_EMPTY      GLSL  \n",
       "0     0.130503  0.088889  \n",
       "1     0.475147  0.475000  \n",
       "2     0.587602  0.587602  \n",
       "3     0.574193  0.574193  \n",
       "4     0.556015  0.556015  \n",
       "5     0.359462  0.359462  \n",
       "6     0.276734  0.276734  \n",
       "7     0.196490  0.179945  \n",
       "8     0.099664  0.088889  \n",
       "9     0.188649  0.188649  \n",
       "10    0.174157  0.165147  \n",
       "11    0.052272  0.049189  \n",
       "12    0.301223  0.296021  \n",
       "13    0.142751  0.040336  \n",
       "14    0.038824  0.038824  \n",
       "15    0.067049  0.067049  \n",
       "16    0.121955  0.121955  \n",
       "17    0.132227  0.132227  \n",
       "18    0.156532  0.156532  \n",
       "19    0.644102  0.364272  \n",
       "20    0.083078  0.080400  \n",
       "21    0.143520  0.143520  \n",
       "22    0.264235  0.172447  \n",
       "23    0.626569  0.626552  "
      ]
     },
     "execution_count": 11,
     "metadata": {},
     "output_type": "execute_result"
    }
   ],
   "source": [
    "accuracy_error_dfs[0]"
   ]
  },
  {
   "cell_type": "markdown",
   "metadata": {},
   "source": [
    "## 1.1 - Average rank table"
   ]
  },
  {
   "cell_type": "code",
   "execution_count": 12,
   "metadata": {},
   "outputs": [
    {
     "data": {
      "text/html": [
       "<div>\n",
       "<style scoped>\n",
       "    .dataframe tbody tr th:only-of-type {\n",
       "        vertical-align: middle;\n",
       "    }\n",
       "\n",
       "    .dataframe tbody tr th {\n",
       "        vertical-align: top;\n",
       "    }\n",
       "\n",
       "    .dataframe thead th {\n",
       "        text-align: right;\n",
       "    }\n",
       "</style>\n",
       "<table border=\"1\" class=\"dataframe\">\n",
       "  <thead>\n",
       "    <tr style=\"text-align: right;\">\n",
       "      <th></th>\n",
       "      <th>MICE</th>\n",
       "      <th>GLFM</th>\n",
       "      <th>HIVAE</th>\n",
       "      <th>GLSL</th>\n",
       "      <th>miss_percentage</th>\n",
       "    </tr>\n",
       "  </thead>\n",
       "  <tbody>\n",
       "    <tr>\n",
       "      <th>0</th>\n",
       "      <td>2.833333</td>\n",
       "      <td>3.375000</td>\n",
       "      <td>2.291667</td>\n",
       "      <td>1.541667</td>\n",
       "      <td>10%</td>\n",
       "    </tr>\n",
       "    <tr>\n",
       "      <th>1</th>\n",
       "      <td>2.958333</td>\n",
       "      <td>3.375000</td>\n",
       "      <td>2.166667</td>\n",
       "      <td>1.500000</td>\n",
       "      <td>20%</td>\n",
       "    </tr>\n",
       "    <tr>\n",
       "      <th>2</th>\n",
       "      <td>3.250000</td>\n",
       "      <td>3.333333</td>\n",
       "      <td>1.833333</td>\n",
       "      <td>1.583333</td>\n",
       "      <td>30%</td>\n",
       "    </tr>\n",
       "    <tr>\n",
       "      <th>3</th>\n",
       "      <td>3.333333</td>\n",
       "      <td>3.166667</td>\n",
       "      <td>1.916667</td>\n",
       "      <td>1.583333</td>\n",
       "      <td>40%</td>\n",
       "    </tr>\n",
       "    <tr>\n",
       "      <th>4</th>\n",
       "      <td>3.166667</td>\n",
       "      <td>3.291667</td>\n",
       "      <td>1.708333</td>\n",
       "      <td>1.833333</td>\n",
       "      <td>50%</td>\n",
       "    </tr>\n",
       "  </tbody>\n",
       "</table>\n",
       "</div>"
      ],
      "text/plain": [
       "       MICE      GLFM     HIVAE      GLSL miss_percentage\n",
       "0  2.833333  3.375000  2.291667  1.541667             10%\n",
       "1  2.958333  3.375000  2.166667  1.500000             20%\n",
       "2  3.250000  3.333333  1.833333  1.583333             30%\n",
       "3  3.333333  3.166667  1.916667  1.583333             40%\n",
       "4  3.166667  3.291667  1.708333  1.833333             50%"
      ]
     },
     "execution_count": 12,
     "metadata": {},
     "output_type": "execute_result"
    }
   ],
   "source": [
    "selected_methods = [\n",
    "    \"MICE\", \n",
    "    \"GLFM\", \n",
    "    \"HIVAE\", \n",
    "    \"GLSL\"\n",
    "]\n",
    "accuracy_error_mean_rank = pd.DataFrame(columns=selected_methods)\n",
    "accuracy_error_std_rank = pd.DataFrame(columns=selected_methods)\n",
    "error_rank_dfs = []\n",
    "\n",
    "for i in range(0,5):\n",
    "    error_rank_df = accuracy_error_dfs[i][selected_methods].rank(method=\"max\", axis = 1, ascending = 1)\n",
    "    error_rank_df[\"dataset\"] = accuracy_error_dfs[i][\"dataset\"]\n",
    "    error_rank_dfs.append(error_rank_df)\n",
    "    accuracy_error_mean_rank = accuracy_error_mean_rank.append(error_rank_df[selected_methods].mean(axis = 0), ignore_index=True)\n",
    "    accuracy_error_std_rank = accuracy_error_std_rank.append(error_rank_df[selected_methods].std(axis = 0), ignore_index=True)\n",
    "\n",
    "accuracy_error_mean_rank[\"miss_percentage\"] = [str(i)+\"0%\" for i in range(1,6)]\n",
    "accuracy_error_std_rank[\"miss_percentage\"] = [str(i)+\"0%\" for i in range(1,6)]\n",
    "accuracy_error_mean_rank"
   ]
  },
  {
   "cell_type": "code",
   "execution_count": 13,
   "metadata": {},
   "outputs": [
    {
     "data": {
      "text/html": [
       "<div>\n",
       "<style scoped>\n",
       "    .dataframe tbody tr th:only-of-type {\n",
       "        vertical-align: middle;\n",
       "    }\n",
       "\n",
       "    .dataframe tbody tr th {\n",
       "        vertical-align: top;\n",
       "    }\n",
       "\n",
       "    .dataframe thead th {\n",
       "        text-align: right;\n",
       "    }\n",
       "</style>\n",
       "<table border=\"1\" class=\"dataframe\">\n",
       "  <thead>\n",
       "    <tr style=\"text-align: right;\">\n",
       "      <th></th>\n",
       "      <th>MICE</th>\n",
       "      <th>GLFM</th>\n",
       "      <th>HIVAE</th>\n",
       "      <th>GLSL</th>\n",
       "      <th>miss_percentage</th>\n",
       "    </tr>\n",
       "  </thead>\n",
       "  <tbody>\n",
       "    <tr>\n",
       "      <th>0</th>\n",
       "      <td>1.090140</td>\n",
       "      <td>0.875388</td>\n",
       "      <td>0.806450</td>\n",
       "      <td>0.832971</td>\n",
       "      <td>10%</td>\n",
       "    </tr>\n",
       "    <tr>\n",
       "      <th>1</th>\n",
       "      <td>0.999094</td>\n",
       "      <td>0.875388</td>\n",
       "      <td>0.761387</td>\n",
       "      <td>0.834058</td>\n",
       "      <td>20%</td>\n",
       "    </tr>\n",
       "    <tr>\n",
       "      <th>2</th>\n",
       "      <td>0.737210</td>\n",
       "      <td>0.701964</td>\n",
       "      <td>0.701964</td>\n",
       "      <td>1.017955</td>\n",
       "      <td>30%</td>\n",
       "    </tr>\n",
       "    <tr>\n",
       "      <th>3</th>\n",
       "      <td>0.868115</td>\n",
       "      <td>0.816497</td>\n",
       "      <td>0.717282</td>\n",
       "      <td>0.928611</td>\n",
       "      <td>40%</td>\n",
       "    </tr>\n",
       "    <tr>\n",
       "      <th>4</th>\n",
       "      <td>0.868115</td>\n",
       "      <td>0.806450</td>\n",
       "      <td>0.624094</td>\n",
       "      <td>1.090140</td>\n",
       "      <td>50%</td>\n",
       "    </tr>\n",
       "  </tbody>\n",
       "</table>\n",
       "</div>"
      ],
      "text/plain": [
       "       MICE      GLFM     HIVAE      GLSL miss_percentage\n",
       "0  1.090140  0.875388  0.806450  0.832971             10%\n",
       "1  0.999094  0.875388  0.761387  0.834058             20%\n",
       "2  0.737210  0.701964  0.701964  1.017955             30%\n",
       "3  0.868115  0.816497  0.717282  0.928611             40%\n",
       "4  0.868115  0.806450  0.624094  1.090140             50%"
      ]
     },
     "execution_count": 13,
     "metadata": {},
     "output_type": "execute_result"
    }
   ],
   "source": [
    "accuracy_error_std_rank"
   ]
  },
  {
   "cell_type": "code",
   "execution_count": 14,
   "metadata": {},
   "outputs": [],
   "source": [
    "# Show the rank/error of each method for each dataset for a specific missing percentage\n",
    "#error_rank_dfs[4]\n",
    "#accuracy_error_dfs[0]"
   ]
  },
  {
   "cell_type": "markdown",
   "metadata": {},
   "source": [
    "## 1.2 - Error plot"
   ]
  },
  {
   "cell_type": "markdown",
   "metadata": {},
   "source": [
    "Para generar un bar plot tenemos que combinar los DFs de resultados en uno solo que tenga 4 columnas:\n",
    "* dataset\n",
    "* method\n",
    "* percentage\n",
    "* error_value"
   ]
  },
  {
   "cell_type": "code",
   "execution_count": 15,
   "metadata": {},
   "outputs": [],
   "source": [
    "df_plot = pd.DataFrame(columns=[\"dataset\", \"method\", \"percentage\", \"accuracy_error\"])\n",
    "\n",
    "for percentage in range(0, 5):\n",
    "    df = accuracy_error_dfs[percentage]\n",
    "    percentage_string = str((percentage+1)*10) + \"%\"\n",
    "    for method in selected_methods:\n",
    "        for i in range(len(df)):\n",
    "            row = df.loc[i]\n",
    "            instance = {\"dataset\": row[\"dataset\"]}\n",
    "            instance[\"percentage\"] = percentage_string\n",
    "            instance[\"method\"] = method\n",
    "            instance[\"accuracy_error\"] = row[method]\n",
    "            df_plot = df_plot.append(instance, ignore_index=True)            "
   ]
  },
  {
   "cell_type": "code",
   "execution_count": 16,
   "metadata": {},
   "outputs": [
    {
     "data": {
      "image/png": "[encoded data removed]",
      "text/plain": [
       "<Figure size 1152x720 with 1 Axes>"
      ]
     },
     "metadata": {
      "needs_background": "light"
     },
     "output_type": "display_data"
    }
   ],
   "source": [
    "from matplotlib import pyplot as plt\n",
    "import seaborn as sns\n",
    "\n",
    "fig, ax = plt.subplots(figsize=(16,10))\n",
    "g = sns.boxplot(data=df_plot,x=\"percentage\", y=\"accuracy_error\", hue=\"method\", ax = ax)\n",
    "ax.legend(loc='upper center', bbox_to_anchor=(0.5, 1.10),\n",
    "          ncol=5, fancybox=True, shadow=True)\n",
    "plt.setp(ax.get_legend().get_texts(), fontsize='25') # for legend text\n",
    "plt.setp(ax.get_legend().get_title(), fontsize='0') # for legend title\n",
    "ax.tick_params(axis=\"x\", labelsize=20) # x ticks font size\n",
    "ax.tick_params(axis=\"y\", labelsize=20) # y ticks font size\n",
    "plt.xlabel('Percentage', fontsize=30, labelpad=30)\n",
    "plt.ylabel('Accuracy error', fontsize=30, labelpad=30)\n",
    "\n",
    "plt.savefig('missing_plots/accuracy_error_plot.pdf')  "
   ]
  },
  {
   "cell_type": "code",
   "execution_count": 17,
   "metadata": {},
   "outputs": [
    {
     "data": {
      "image/png": "[encoded data removed]",
      "text/plain": [
       "<Figure size 864x576 with 1 Axes>"
      ]
     },
     "metadata": {
      "needs_background": "light"
     },
     "output_type": "display_data"
    }
   ],
   "source": [
    "from matplotlib import pyplot as plt\n",
    "import seaborn as sns\n",
    "\n",
    "fig, ax = plt.subplots(figsize=(12,8))\n",
    "g = sns.lineplot(data=df_plot,x=\"percentage\", y=\"accuracy_error\", hue=\"method\", ax = ax)\n",
    "plt.xlabel('Percentage', fontsize=14)\n",
    "ylabel = plt.ylabel('Accuracy error', fontsize=14)"
   ]
  },
  {
   "cell_type": "markdown",
   "metadata": {},
   "source": [
    "## 1.3 - Nemenyi tests"
   ]
  },
  {
   "cell_type": "code",
   "execution_count": 18,
   "metadata": {},
   "outputs": [
    {
     "name": "stdout",
     "output_type": "stream",
     "text": [
      "Missing percentage: 10%\n"
     ]
    },
    {
     "data": {
      "image/png": "[encoded data removed]",
      "text/plain": [
       "<Figure size 432x126 with 1 Axes>"
      ]
     },
     "metadata": {},
     "output_type": "display_data"
    },
    {
     "name": "stdout",
     "output_type": "stream",
     "text": [
      "Missing percentage: 20%\n"
     ]
    },
    {
     "data": {
      "image/png": "[encoded data removed]",
      "text/plain": [
       "<Figure size 432x126 with 1 Axes>"
      ]
     },
     "metadata": {},
     "output_type": "display_data"
    },
    {
     "name": "stdout",
     "output_type": "stream",
     "text": [
      "Missing percentage: 30%\n"
     ]
    },
    {
     "data": {
      "image/png": "[encoded data removed]",
      "text/plain": [
       "<Figure size 432x118.8 with 1 Axes>"
      ]
     },
     "metadata": {},
     "output_type": "display_data"
    },
    {
     "name": "stdout",
     "output_type": "stream",
     "text": [
      "Missing percentage: 40%\n"
     ]
    },
    {
     "data": {
      "image/png": "[encoded data removed]",
      "text/plain": [
       "<Figure size 432x118.8 with 1 Axes>"
      ]
     },
     "metadata": {},
     "output_type": "display_data"
    },
    {
     "name": "stdout",
     "output_type": "stream",
     "text": [
      "Missing percentage: 50%\n"
     ]
    },
    {
     "data": {
      "image/png": "[encoded data removed]",
      "text/plain": [
       "<Figure size 432x118.8 with 1 Axes>"
      ]
     },
     "metadata": {},
     "output_type": "display_data"
    }
   ],
   "source": [
    "import Orange\n",
    "import matplotlib.pyplot as plt\n",
    "\n",
    "n_datasets = accuracy_error_dfs[0].shape[0]\n",
    "\n",
    "for i in range(0, accuracy_error_mean_rank.shape[0]):\n",
    "    avranks = accuracy_error_mean_rank[selected_methods].iloc[i].values\n",
    "    cd = Orange.evaluation.compute_CD(avranks, n_datasets) #tested on 30 datasets\n",
    "    Orange.evaluation.graph_ranks(avranks, selected_methods, cd=cd,width=6, textspace=1.5)\n",
    "    print(\"Missing percentage: \" + str(accuracy_error_mean_rank[\"miss_percentage\"].iloc[i]))\n",
    "    plt.savefig('missing_plots/accuracy_error_' + str(accuracy_error_mean_rank[\"miss_percentage\"].iloc[i]).replace(\"%\", \"\") + '.svg')  \n",
    "    plt.show()"
   ]
  },
  {
   "cell_type": "markdown",
   "metadata": {},
   "source": [
    "# 2 - NRMSE\n",
    "\n",
    "Iteramos por los datasets de los directorios de **continuous** y **mixed**, agrupando sus nrmses"
   ]
  },
  {
   "cell_type": "code",
   "execution_count": 19,
   "metadata": {},
   "outputs": [],
   "source": [
    "import pandas as pd\n",
    "import json\n",
    "import statistics as stats\n",
    "from os import listdir\n",
    "import numpy as np\n",
    "\n",
    "methods = [\n",
    "    \"MEAN\", \n",
    "    \"MICE\", \n",
    "    \"GLFM\", \n",
    "    \"HIVAE\", \n",
    "    \"VBSEM\",\n",
    "    \"glsl_EMPTY\"\n",
    "]\n",
    "max_percentage = 6\n",
    "n_runs = 5\n",
    "nrmse_dfs = []\n",
    "selected_directories = [\"continuous\", \"mixed\"]\n",
    "\n",
    "\n",
    "# Iterate through the missing percentage values, and for each dataset, recover the methods' results\n",
    "for i in range(1, max_percentage):\n",
    "    miss_percentage_string = \"0\" + str(i)\n",
    "\n",
    "    df_error_results = pd.DataFrame()\n",
    "    \n",
    "    for directory in selected_directories:\n",
    "        \n",
    "        data_names = directories[directory]\n",
    "        \n",
    "        for data_name in data_names:\n",
    "            error_results = {\"dataset\": data_name}\n",
    "            for method_name in methods:\n",
    "\n",
    "                json_name = data_name + \"_\" + miss_percentage_string + \"_results_\" + method_name + \".json\"\n",
    "                full_path = \"../../missing_results/\"+ directory +\"/\"+data_name+\"/\"+json_name\n",
    "                with open(full_path) as json_file:\n",
    "                    json_data = json.load(json_file)\n",
    "                    runs_data = json_data[\"runs\"]\n",
    "                    errors = []\n",
    "                    learning_times = []\n",
    "                    for i in range(1, n_runs + 1):\n",
    "                        errors.append(runs_data[\"run_\" + str(i)][\"nrmse\"]) \n",
    "\n",
    "                    avg_error = stats.mean(errors)\n",
    "                    stdev_error = stats.stdev(errors)\n",
    "\n",
    "                    error_results[method_name] = avg_error\n",
    "\n",
    "            df_error_results = df_error_results.append(error_results, ignore_index=True)\n",
    "\n",
    "    nrmse_dfs.append(df_error_results)\n",
    "    \n",
    "for i in range(0, max_percentage-1):\n",
    "    nrmse_dfs[i][\"GLSL\"] = nrmse_dfs[i][['VBSEM','glsl_EMPTY']].min(axis=1)"
   ]
  },
  {
   "cell_type": "markdown",
   "metadata": {},
   "source": [
    "## 2.1 - Average rank table"
   ]
  },
  {
   "cell_type": "code",
   "execution_count": 20,
   "metadata": {},
   "outputs": [
    {
     "data": {
      "text/html": [
       "<div>\n",
       "<style scoped>\n",
       "    .dataframe tbody tr th:only-of-type {\n",
       "        vertical-align: middle;\n",
       "    }\n",
       "\n",
       "    .dataframe tbody tr th {\n",
       "        vertical-align: top;\n",
       "    }\n",
       "\n",
       "    .dataframe thead th {\n",
       "        text-align: right;\n",
       "    }\n",
       "</style>\n",
       "<table border=\"1\" class=\"dataframe\">\n",
       "  <thead>\n",
       "    <tr style=\"text-align: right;\">\n",
       "      <th></th>\n",
       "      <th>MEAN</th>\n",
       "      <th>MICE</th>\n",
       "      <th>GLFM</th>\n",
       "      <th>HIVAE</th>\n",
       "      <th>GLSL</th>\n",
       "      <th>miss_percentage</th>\n",
       "    </tr>\n",
       "  </thead>\n",
       "  <tbody>\n",
       "    <tr>\n",
       "      <th>0</th>\n",
       "      <td>4.833333</td>\n",
       "      <td>1.416667</td>\n",
       "      <td>3.875000</td>\n",
       "      <td>2.708333</td>\n",
       "      <td>2.166667</td>\n",
       "      <td>10%</td>\n",
       "    </tr>\n",
       "    <tr>\n",
       "      <th>1</th>\n",
       "      <td>4.833333</td>\n",
       "      <td>1.666667</td>\n",
       "      <td>3.625000</td>\n",
       "      <td>2.666667</td>\n",
       "      <td>2.208333</td>\n",
       "      <td>20%</td>\n",
       "    </tr>\n",
       "    <tr>\n",
       "      <th>2</th>\n",
       "      <td>4.583333</td>\n",
       "      <td>2.000000</td>\n",
       "      <td>3.750000</td>\n",
       "      <td>2.541667</td>\n",
       "      <td>2.125000</td>\n",
       "      <td>30%</td>\n",
       "    </tr>\n",
       "    <tr>\n",
       "      <th>3</th>\n",
       "      <td>4.500000</td>\n",
       "      <td>2.250000</td>\n",
       "      <td>3.791667</td>\n",
       "      <td>2.250000</td>\n",
       "      <td>2.208333</td>\n",
       "      <td>40%</td>\n",
       "    </tr>\n",
       "    <tr>\n",
       "      <th>4</th>\n",
       "      <td>4.333333</td>\n",
       "      <td>2.208333</td>\n",
       "      <td>4.000000</td>\n",
       "      <td>2.291667</td>\n",
       "      <td>2.166667</td>\n",
       "      <td>50%</td>\n",
       "    </tr>\n",
       "  </tbody>\n",
       "</table>\n",
       "</div>"
      ],
      "text/plain": [
       "       MEAN      MICE      GLFM     HIVAE      GLSL miss_percentage\n",
       "0  4.833333  1.416667  3.875000  2.708333  2.166667             10%\n",
       "1  4.833333  1.666667  3.625000  2.666667  2.208333             20%\n",
       "2  4.583333  2.000000  3.750000  2.541667  2.125000             30%\n",
       "3  4.500000  2.250000  3.791667  2.250000  2.208333             40%\n",
       "4  4.333333  2.208333  4.000000  2.291667  2.166667             50%"
      ]
     },
     "execution_count": 20,
     "metadata": {},
     "output_type": "execute_result"
    }
   ],
   "source": [
    "selected_methods = [\n",
    "    \"MEAN\",\n",
    "    \"MICE\", \n",
    "    \"GLFM\", \n",
    "    \"HIVAE\", \n",
    "    \"GLSL\"\n",
    "]\n",
    "nrmse_mean_rank = pd.DataFrame(columns=selected_methods)\n",
    "nrmse_std_rank = pd.DataFrame(columns=selected_methods)\n",
    "error_rank_dfs = []\n",
    "\n",
    "for i in range(0,5):\n",
    "    error_rank_df = nrmse_dfs[i][selected_methods].rank(method=\"max\", axis = 1, ascending = 1)\n",
    "    error_rank_df[\"dataset\"] = nrmse_dfs[i][\"dataset\"]\n",
    "    error_rank_dfs.append(error_rank_df)\n",
    "    nrmse_mean_rank = nrmse_mean_rank.append(error_rank_df[selected_methods].mean(axis = 0), ignore_index=True)\n",
    "    nrmse_std_rank = nrmse_std_rank.append(error_rank_df[selected_methods].std(axis = 0), ignore_index=True)\n",
    "\n",
    "nrmse_mean_rank[\"miss_percentage\"] = [str(i)+\"0%\" for i in range(1,6)]\n",
    "nrmse_std_rank[\"miss_percentage\"] = [str(i)+\"0%\" for i in range(1,6)]\n",
    "nrmse_mean_rank"
   ]
  },
  {
   "cell_type": "code",
   "execution_count": 21,
   "metadata": {},
   "outputs": [
    {
     "data": {
      "text/html": [
       "<div>\n",
       "<style scoped>\n",
       "    .dataframe tbody tr th:only-of-type {\n",
       "        vertical-align: middle;\n",
       "    }\n",
       "\n",
       "    .dataframe tbody tr th {\n",
       "        vertical-align: top;\n",
       "    }\n",
       "\n",
       "    .dataframe thead th {\n",
       "        text-align: right;\n",
       "    }\n",
       "</style>\n",
       "<table border=\"1\" class=\"dataframe\">\n",
       "  <thead>\n",
       "    <tr style=\"text-align: right;\">\n",
       "      <th></th>\n",
       "      <th>MEAN</th>\n",
       "      <th>MICE</th>\n",
       "      <th>GLFM</th>\n",
       "      <th>HIVAE</th>\n",
       "      <th>GLSL</th>\n",
       "      <th>miss_percentage</th>\n",
       "    </tr>\n",
       "  </thead>\n",
       "  <tbody>\n",
       "    <tr>\n",
       "      <th>0</th>\n",
       "      <td>0.481543</td>\n",
       "      <td>0.653863</td>\n",
       "      <td>0.612372</td>\n",
       "      <td>0.624094</td>\n",
       "      <td>1.129319</td>\n",
       "      <td>10%</td>\n",
       "    </tr>\n",
       "    <tr>\n",
       "      <th>1</th>\n",
       "      <td>0.637022</td>\n",
       "      <td>0.868115</td>\n",
       "      <td>0.923721</td>\n",
       "      <td>0.637022</td>\n",
       "      <td>1.215092</td>\n",
       "      <td>20%</td>\n",
       "    </tr>\n",
       "    <tr>\n",
       "      <th>2</th>\n",
       "      <td>1.017955</td>\n",
       "      <td>1.103355</td>\n",
       "      <td>0.989071</td>\n",
       "      <td>0.658005</td>\n",
       "      <td>1.226962</td>\n",
       "      <td>30%</td>\n",
       "    </tr>\n",
       "    <tr>\n",
       "      <th>3</th>\n",
       "      <td>1.063219</td>\n",
       "      <td>1.326978</td>\n",
       "      <td>0.721060</td>\n",
       "      <td>0.737210</td>\n",
       "      <td>1.284664</td>\n",
       "      <td>40%</td>\n",
       "    </tr>\n",
       "    <tr>\n",
       "      <th>4</th>\n",
       "      <td>0.963087</td>\n",
       "      <td>1.250362</td>\n",
       "      <td>0.834058</td>\n",
       "      <td>0.858673</td>\n",
       "      <td>1.307725</td>\n",
       "      <td>50%</td>\n",
       "    </tr>\n",
       "  </tbody>\n",
       "</table>\n",
       "</div>"
      ],
      "text/plain": [
       "       MEAN      MICE      GLFM     HIVAE      GLSL miss_percentage\n",
       "0  0.481543  0.653863  0.612372  0.624094  1.129319             10%\n",
       "1  0.637022  0.868115  0.923721  0.637022  1.215092             20%\n",
       "2  1.017955  1.103355  0.989071  0.658005  1.226962             30%\n",
       "3  1.063219  1.326978  0.721060  0.737210  1.284664             40%\n",
       "4  0.963087  1.250362  0.834058  0.858673  1.307725             50%"
      ]
     },
     "execution_count": 21,
     "metadata": {},
     "output_type": "execute_result"
    }
   ],
   "source": [
    "nrmse_std_rank"
   ]
  },
  {
   "cell_type": "code",
   "execution_count": 22,
   "metadata": {},
   "outputs": [],
   "source": [
    "# Show the rank/error of each method for each dataset for a specific missing percentage\n",
    "#error_rank_dfs[4]\n",
    "#nrmse_dfs[0]"
   ]
  },
  {
   "cell_type": "markdown",
   "metadata": {},
   "source": [
    "## 2.2 - Error plots"
   ]
  },
  {
   "cell_type": "code",
   "execution_count": 23,
   "metadata": {},
   "outputs": [],
   "source": [
    "df_plot = pd.DataFrame(columns=[\"dataset\", \"method\", \"percentage\", \"NRMSE\"])\n",
    "\n",
    "for percentage in range(0, 5):\n",
    "    df = nrmse_dfs[percentage]\n",
    "    percentage_string = str((percentage+1)*10) + \"%\"\n",
    "    for method in selected_methods:\n",
    "        for i in range(len(df)):\n",
    "            row = df.loc[i]\n",
    "            instance = {\"dataset\": row[\"dataset\"]}\n",
    "            instance[\"percentage\"] = percentage_string\n",
    "            instance[\"method\"] = method\n",
    "            instance[\"NRMSE\"] = row[method]\n",
    "            df_plot = df_plot.append(instance, ignore_index=True)"
   ]
  },
  {
   "cell_type": "code",
   "execution_count": 24,
   "metadata": {},
   "outputs": [
    {
     "data": {
      "image/png": "[encoded data removed]",
      "text/plain": [
       "<Figure size 1152x720 with 1 Axes>"
      ]
     },
     "metadata": {
      "needs_background": "light"
     },
     "output_type": "display_data"
    }
   ],
   "source": [
    "from matplotlib import pyplot as plt\n",
    "import seaborn as sns\n",
    "\n",
    "fig, ax = plt.subplots(figsize=(16,10))\n",
    "g = sns.boxplot(data=df_plot,x=\"percentage\", y=\"NRMSE\", hue=\"method\", ax = ax)\n",
    "ax.legend(loc='upper center', bbox_to_anchor=(0.5, 1.10),\n",
    "          ncol=5, fancybox=True, shadow=True)\n",
    "plt.setp(ax.get_legend().get_texts(), fontsize='25') # for legend text\n",
    "plt.setp(ax.get_legend().get_title(), fontsize='0') # for legend title\n",
    "ax.tick_params(axis=\"x\", labelsize=20) # x ticks font size\n",
    "ax.tick_params(axis=\"y\", labelsize=20) # y ticks font size\n",
    "plt.xlabel('Percentage', fontsize=30, labelpad=30)\n",
    "plt.ylabel('NRMSE', fontsize=30, labelpad=30)\n",
    "\n",
    "plt.savefig('missing_plots/nrmse_plot.pdf')  "
   ]
  },
  {
   "cell_type": "markdown",
   "metadata": {},
   "source": [
    "## 2.3 - Nemenyi tests"
   ]
  },
  {
   "cell_type": "code",
   "execution_count": 25,
   "metadata": {},
   "outputs": [
    {
     "name": "stdout",
     "output_type": "stream",
     "text": [
      "Missing percentage: 10%\n"
     ]
    },
    {
     "data": {
      "image/png": "[encoded data removed]",
      "text/plain": [
       "<Figure size 432x140.4 with 1 Axes>"
      ]
     },
     "metadata": {},
     "output_type": "display_data"
    },
    {
     "name": "stdout",
     "output_type": "stream",
     "text": [
      "Missing percentage: 20%\n"
     ]
    },
    {
     "data": {
      "image/png": "[encoded data removed]",
      "text/plain": [
       "<Figure size 432x133.2 with 1 Axes>"
      ]
     },
     "metadata": {},
     "output_type": "display_data"
    },
    {
     "name": "stdout",
     "output_type": "stream",
     "text": [
      "Missing percentage: 30%\n"
     ]
    },
    {
     "data": {
      "image/png": "[encoded data removed]",
      "text/plain": [
       "<Figure size 432x133.2 with 1 Axes>"
      ]
     },
     "metadata": {},
     "output_type": "display_data"
    },
    {
     "name": "stdout",
     "output_type": "stream",
     "text": [
      "Missing percentage: 40%\n"
     ]
    },
    {
     "data": {
      "image/png": "[encoded data removed]",
      "text/plain": [
       "<Figure size 432x126 with 1 Axes>"
      ]
     },
     "metadata": {},
     "output_type": "display_data"
    },
    {
     "name": "stdout",
     "output_type": "stream",
     "text": [
      "Missing percentage: 50%\n"
     ]
    },
    {
     "data": {
      "image/png": "[encoded data removed]",
      "text/plain": [
       "<Figure size 432x126 with 1 Axes>"
      ]
     },
     "metadata": {},
     "output_type": "display_data"
    }
   ],
   "source": [
    "import Orange\n",
    "import matplotlib.pyplot as plt\n",
    "\n",
    "n_datasets = nrmse_dfs[0].shape[0]\n",
    "\n",
    "for i in range(0, nrmse_mean_rank.shape[0]):\n",
    "    avranks = nrmse_mean_rank[selected_methods].iloc[i].values\n",
    "    cd = Orange.evaluation.compute_CD(avranks, n_datasets) #tested on 30 datasets\n",
    "    Orange.evaluation.graph_ranks(avranks, selected_methods, cd=cd, width=6, textspace=1.5)   \n",
    "    print(\"Missing percentage: \" + str(nrmse_mean_rank[\"miss_percentage\"].iloc[i]))\n",
    "    plt.savefig('nrmse_' + str(nrmse_mean_rank[\"miss_percentage\"].iloc[i]).replace(\"%\", \"\") + '.pdf')  \n",
    "    plt.show()"
   ]
  },
  {
   "cell_type": "markdown",
   "metadata": {},
   "source": [
    "# 3 - Average error\n",
    "\n",
    "Iteramos por los directorios de **discrete**, **continuous** y **mixed**, agrupando sus errores como average_error"
   ]
  },
  {
   "cell_type": "code",
   "execution_count": 26,
   "metadata": {},
   "outputs": [],
   "source": [
    "import pandas as pd\n",
    "import json\n",
    "import statistics as stats\n",
    "from os import listdir\n",
    "import numpy as np\n",
    "\n",
    "methods = [\n",
    "    \"MEAN\",  \n",
    "    \"MICE\", \n",
    "    \"GLFM\", \n",
    "    \"HIVAE\", \n",
    "    \"VBSEM\",\n",
    "    \"glsl_EMPTY\"\n",
    "]\n",
    "max_percentage = 6\n",
    "n_runs = 5\n",
    "selected_directories = [\"discrete\", \"continuous\", \"mixed\"]\n",
    "average_error_dfs = []\n",
    "\n",
    "# Iterate through the missing percentage values, and for each dataset, recover the methods' results\n",
    "for i in range(1, max_percentage):\n",
    "    miss_percentage_string = \"0\" + str(i)\n",
    "\n",
    "    df_error_results = pd.DataFrame()\n",
    "\n",
    "    for directory in selected_directories:\n",
    "        \n",
    "        data_names = directories[directory]\n",
    "\n",
    "        for data_name in data_names:\n",
    "            error_results = {\"dataset\": data_name}\n",
    "            \n",
    "            for method_name in methods:\n",
    "                json_name = data_name + \"_\" + miss_percentage_string + \"_results_\" + method_name + \".json\"\n",
    "                full_path = \"../../missing_results/\"+ directory +\"/\"+data_name+\"/\"+json_name\n",
    "                with open(full_path) as json_file:\n",
    "                    json_data = json.load(json_file)\n",
    "                    runs_data = json_data[\"runs\"]\n",
    "                    errors = []\n",
    "                    learning_times = []\n",
    "                    for i in range(1, n_runs + 1):\n",
    "                        if directory == \"discrete\":\n",
    "                            errors.append(1.0 - runs_data[\"run_\" + str(i)][\"accuracy\"])\n",
    "                        elif directory == \"continuous\":\n",
    "                            errors.append(runs_data[\"run_\" + str(i)][\"nrmse\"])\n",
    "                        else:\n",
    "                            errors.append(runs_data[\"run_\" + str(i)][\"average_error\"])\n",
    "\n",
    "                    avg_error = stats.mean(errors)\n",
    "                    stdev_error = stats.stdev(errors)\n",
    "\n",
    "                    error_results[method_name] = avg_error\n",
    "\n",
    "            df_error_results = df_error_results.append(error_results, ignore_index=True)\n",
    "\n",
    "    average_error_dfs.append(df_error_results)\n",
    "    \n",
    "for i in range(0, max_percentage-1):\n",
    "    average_error_dfs[i][\"GLSL\"] = average_error_dfs[i][['VBSEM','glsl_EMPTY']].min(axis=1)"
   ]
  },
  {
   "cell_type": "markdown",
   "metadata": {},
   "source": [
    "## 3.1 - Average rank table"
   ]
  },
  {
   "cell_type": "code",
   "execution_count": 27,
   "metadata": {},
   "outputs": [
    {
     "data": {
      "text/html": [
       "<div>\n",
       "<style scoped>\n",
       "    .dataframe tbody tr th:only-of-type {\n",
       "        vertical-align: middle;\n",
       "    }\n",
       "\n",
       "    .dataframe tbody tr th {\n",
       "        vertical-align: top;\n",
       "    }\n",
       "\n",
       "    .dataframe thead th {\n",
       "        text-align: right;\n",
       "    }\n",
       "</style>\n",
       "<table border=\"1\" class=\"dataframe\">\n",
       "  <thead>\n",
       "    <tr style=\"text-align: right;\">\n",
       "      <th></th>\n",
       "      <th>MEAN</th>\n",
       "      <th>MICE</th>\n",
       "      <th>GLFM</th>\n",
       "      <th>HIVAE</th>\n",
       "      <th>GLSL</th>\n",
       "      <th>miss_percentage</th>\n",
       "    </tr>\n",
       "  </thead>\n",
       "  <tbody>\n",
       "    <tr>\n",
       "      <th>0</th>\n",
       "      <td>4.81</td>\n",
       "      <td>2.08</td>\n",
       "      <td>3.83</td>\n",
       "      <td>2.47</td>\n",
       "      <td>1.81</td>\n",
       "      <td>10%</td>\n",
       "    </tr>\n",
       "    <tr>\n",
       "      <th>1</th>\n",
       "      <td>4.78</td>\n",
       "      <td>2.25</td>\n",
       "      <td>3.58</td>\n",
       "      <td>2.36</td>\n",
       "      <td>2.03</td>\n",
       "      <td>20%</td>\n",
       "    </tr>\n",
       "    <tr>\n",
       "      <th>2</th>\n",
       "      <td>4.58</td>\n",
       "      <td>2.64</td>\n",
       "      <td>3.61</td>\n",
       "      <td>2.19</td>\n",
       "      <td>2.00</td>\n",
       "      <td>30%</td>\n",
       "    </tr>\n",
       "    <tr>\n",
       "      <th>3</th>\n",
       "      <td>4.56</td>\n",
       "      <td>2.86</td>\n",
       "      <td>3.64</td>\n",
       "      <td>2.00</td>\n",
       "      <td>1.97</td>\n",
       "      <td>40%</td>\n",
       "    </tr>\n",
       "    <tr>\n",
       "      <th>4</th>\n",
       "      <td>4.31</td>\n",
       "      <td>2.67</td>\n",
       "      <td>3.92</td>\n",
       "      <td>1.97</td>\n",
       "      <td>2.22</td>\n",
       "      <td>50%</td>\n",
       "    </tr>\n",
       "  </tbody>\n",
       "</table>\n",
       "</div>"
      ],
      "text/plain": [
       "   MEAN  MICE  GLFM  HIVAE  GLSL miss_percentage\n",
       "0  4.81  2.08  3.83   2.47  1.81             10%\n",
       "1  4.78  2.25  3.58   2.36  2.03             20%\n",
       "2  4.58  2.64  3.61   2.19  2.00             30%\n",
       "3  4.56  2.86  3.64   2.00  1.97             40%\n",
       "4  4.31  2.67  3.92   1.97  2.22             50%"
      ]
     },
     "execution_count": 27,
     "metadata": {},
     "output_type": "execute_result"
    }
   ],
   "source": [
    "selected_methods = [\n",
    "    \"MEAN\",\n",
    "    \"MICE\", \n",
    "    \"GLFM\", \n",
    "    \"HIVAE\", \n",
    "    \"GLSL\"\n",
    "\n",
    "]\n",
    "average_error_mean_rank = pd.DataFrame(columns=selected_methods)\n",
    "average_error_std_rank = pd.DataFrame(columns=selected_methods)\n",
    "error_rank_dfs = []\n",
    "\n",
    "for i in range(0,5):\n",
    "    error_rank_df = average_error_dfs[i][selected_methods].rank(method=\"max\", axis = 1, ascending = 1)\n",
    "    error_rank_df[\"dataset\"] = average_error_dfs[i][\"dataset\"]\n",
    "    error_rank_dfs.append(error_rank_df)\n",
    "    average_error_mean_rank = average_error_mean_rank.append(error_rank_df[selected_methods].mean(axis = 0), ignore_index=True)\n",
    "    average_error_std_rank = average_error_std_rank.append(error_rank_df[selected_methods].std(axis = 0), ignore_index=True)\n",
    "\n",
    "average_error_mean_rank[\"miss_percentage\"] = [str(i)+\"0%\" for i in range(1,6)]\n",
    "average_error_std_rank[\"miss_percentage\"] = [str(i)+\"0%\" for i in range(1,6)]\n",
    "average_error_mean_rank.round(2)\n",
    "# average_error_std_rank"
   ]
  },
  {
   "cell_type": "code",
   "execution_count": 28,
   "metadata": {},
   "outputs": [
    {
     "data": {
      "text/html": [
       "<div>\n",
       "<style scoped>\n",
       "    .dataframe tbody tr th:only-of-type {\n",
       "        vertical-align: middle;\n",
       "    }\n",
       "\n",
       "    .dataframe tbody tr th {\n",
       "        vertical-align: top;\n",
       "    }\n",
       "\n",
       "    .dataframe thead th {\n",
       "        text-align: right;\n",
       "    }\n",
       "</style>\n",
       "<table border=\"1\" class=\"dataframe\">\n",
       "  <thead>\n",
       "    <tr style=\"text-align: right;\">\n",
       "      <th></th>\n",
       "      <th>MEAN</th>\n",
       "      <th>MICE</th>\n",
       "      <th>GLFM</th>\n",
       "      <th>HIVAE</th>\n",
       "      <th>GLSL</th>\n",
       "      <th>miss_percentage</th>\n",
       "    </tr>\n",
       "  </thead>\n",
       "  <tbody>\n",
       "    <tr>\n",
       "      <th>0</th>\n",
       "      <td>0.71</td>\n",
       "      <td>1.08</td>\n",
       "      <td>0.65</td>\n",
       "      <td>0.81</td>\n",
       "      <td>0.92</td>\n",
       "      <td>10%</td>\n",
       "    </tr>\n",
       "    <tr>\n",
       "      <th>1</th>\n",
       "      <td>0.76</td>\n",
       "      <td>1.13</td>\n",
       "      <td>0.87</td>\n",
       "      <td>0.83</td>\n",
       "      <td>1.18</td>\n",
       "      <td>20%</td>\n",
       "    </tr>\n",
       "    <tr>\n",
       "      <th>2</th>\n",
       "      <td>0.94</td>\n",
       "      <td>1.22</td>\n",
       "      <td>0.93</td>\n",
       "      <td>0.79</td>\n",
       "      <td>1.31</td>\n",
       "      <td>30%</td>\n",
       "    </tr>\n",
       "    <tr>\n",
       "      <th>3</th>\n",
       "      <td>0.84</td>\n",
       "      <td>1.38</td>\n",
       "      <td>0.76</td>\n",
       "      <td>0.83</td>\n",
       "      <td>1.21</td>\n",
       "      <td>40%</td>\n",
       "    </tr>\n",
       "    <tr>\n",
       "      <th>4</th>\n",
       "      <td>0.98</td>\n",
       "      <td>1.35</td>\n",
       "      <td>0.91</td>\n",
       "      <td>0.81</td>\n",
       "      <td>1.33</td>\n",
       "      <td>50%</td>\n",
       "    </tr>\n",
       "  </tbody>\n",
       "</table>\n",
       "</div>"
      ],
      "text/plain": [
       "   MEAN  MICE  GLFM  HIVAE  GLSL miss_percentage\n",
       "0  0.71  1.08  0.65   0.81  0.92             10%\n",
       "1  0.76  1.13  0.87   0.83  1.18             20%\n",
       "2  0.94  1.22  0.93   0.79  1.31             30%\n",
       "3  0.84  1.38  0.76   0.83  1.21             40%\n",
       "4  0.98  1.35  0.91   0.81  1.33             50%"
      ]
     },
     "execution_count": 28,
     "metadata": {},
     "output_type": "execute_result"
    }
   ],
   "source": [
    "average_error_std_rank.round(2)"
   ]
  },
  {
   "cell_type": "code",
   "execution_count": 29,
   "metadata": {},
   "outputs": [],
   "source": [
    "# Show the rank/error of each method for each dataset for a specific missing percentage\n",
    "#error_rank_dfs[4]\n",
    "#average_error_dfs[0]"
   ]
  },
  {
   "cell_type": "markdown",
   "metadata": {},
   "source": [
    "## 3.2 - Error plots"
   ]
  },
  {
   "cell_type": "code",
   "execution_count": 30,
   "metadata": {},
   "outputs": [],
   "source": [
    "df_plot = pd.DataFrame(columns=[\"dataset\", \"method\", \"percentage\", \"AvgErr\"])\n",
    "\n",
    "for percentage in range(0, 5):\n",
    "    df = average_error_dfs[percentage]\n",
    "    percentage_string = str((percentage+1)*10) + \"%\"\n",
    "    for method in selected_methods:\n",
    "        for i in range(len(df)):\n",
    "            row = df.loc[i]\n",
    "            instance = {\"dataset\": row[\"dataset\"]}\n",
    "            instance[\"percentage\"] = percentage_string\n",
    "            instance[\"method\"] = method\n",
    "            instance[\"AvgErr\"] = row[method]\n",
    "            df_plot = df_plot.append(instance, ignore_index=True)"
   ]
  },
  {
   "cell_type": "code",
   "execution_count": 31,
   "metadata": {},
   "outputs": [
    {
     "data": {
      "image/png": "[encoded data removed]",
      "text/plain": [
       "<Figure size 1152x720 with 1 Axes>"
      ]
     },
     "metadata": {
      "needs_background": "light"
     },
     "output_type": "display_data"
    }
   ],
   "source": [
    "from matplotlib import pyplot as plt\n",
    "import seaborn as sns\n",
    "\n",
    "fig, ax = plt.subplots(figsize=(16,10))\n",
    "g = sns.boxplot(data=df_plot,x=\"percentage\", y=\"AvgErr\", hue=\"method\", ax = ax)\n",
    "ax.legend(loc='upper center', bbox_to_anchor=(0.5, 1.10),\n",
    "          ncol=5, fancybox=True, shadow=True)\n",
    "plt.setp(ax.get_legend().get_texts(), fontsize='25') # for legend text\n",
    "plt.setp(ax.get_legend().get_title(), fontsize='0') # for legend title\n",
    "ax.tick_params(axis=\"x\", labelsize=20) # x ticks font size\n",
    "ax.tick_params(axis=\"y\", labelsize=20) # y ticks font size\n",
    "plt.xlabel('Percentage', fontsize=30, labelpad=30)\n",
    "plt.ylabel('Average error', fontsize=30, labelpad=30)\n",
    "\n",
    "plt.savefig('missing_plots/average_error_plot.pdf')  "
   ]
  },
  {
   "cell_type": "markdown",
   "metadata": {},
   "source": [
    "## 3.3 - Friedman test"
   ]
  },
  {
   "cell_type": "code",
   "execution_count": 32,
   "metadata": {},
   "outputs": [
    {
     "name": "stdout",
     "output_type": "stream",
     "text": [
      "10%: 2.2617580438389636e-19\n",
      "20%: 4.619289669206321e-16\n",
      "30%: 9.914832177868473e-14\n",
      "40%: 1.7770241078253232e-14\n",
      "50%: 1.189778941042108e-12\n"
     ]
    }
   ],
   "source": [
    "from scipy.stats import friedmanchisquare as friedman_test\n",
    "\n",
    "\n",
    "for i in range(0,5):\n",
    "    selected_average_error_df = average_error_dfs[i]\n",
    "\n",
    "    stat,p = friedman_test(selected_average_error_df[\"MEAN\"], \n",
    "                  selected_average_error_df[\"MICE\"], \n",
    "                  selected_average_error_df[\"GLFM\"], \n",
    "                  selected_average_error_df[\"HIVAE\"], \n",
    "                  selected_average_error_df[\"GLSL\"])\n",
    "    print(str(i+1)+\"0%: \" + str(p))"
   ]
  },
  {
   "cell_type": "markdown",
   "metadata": {},
   "source": [
    "## 3.4 - Nemenyi tests"
   ]
  },
  {
   "cell_type": "code",
   "execution_count": 33,
   "metadata": {},
   "outputs": [
    {
     "name": "stdout",
     "output_type": "stream",
     "text": [
      "Missing percentage: 10%\n"
     ]
    },
    {
     "data": {
      "image/png": "[encoded data removed]",
      "text/plain": [
       "<Figure size 432x126 with 1 Axes>"
      ]
     },
     "metadata": {},
     "output_type": "display_data"
    },
    {
     "name": "stdout",
     "output_type": "stream",
     "text": [
      "Missing percentage: 20%\n"
     ]
    },
    {
     "data": {
      "image/png": "[encoded data removed]",
      "text/plain": [
       "<Figure size 432x118.8 with 1 Axes>"
      ]
     },
     "metadata": {},
     "output_type": "display_data"
    },
    {
     "name": "stdout",
     "output_type": "stream",
     "text": [
      "Missing percentage: 30%\n"
     ]
    },
    {
     "data": {
      "image/png": "[encoded data removed]",
      "text/plain": [
       "<Figure size 432x133.2 with 1 Axes>"
      ]
     },
     "metadata": {},
     "output_type": "display_data"
    },
    {
     "name": "stdout",
     "output_type": "stream",
     "text": [
      "Missing percentage: 40%\n"
     ]
    },
    {
     "data": {
      "image/png": "[encoded data removed]",
      "text/plain": [
       "<Figure size 432x133.2 with 1 Axes>"
      ]
     },
     "metadata": {},
     "output_type": "display_data"
    },
    {
     "name": "stdout",
     "output_type": "stream",
     "text": [
      "Missing percentage: 50%\n"
     ]
    },
    {
     "data": {
      "image/png": "[encoded data removed]",
      "text/plain": [
       "<Figure size 432x126 with 1 Axes>"
      ]
     },
     "metadata": {},
     "output_type": "display_data"
    }
   ],
   "source": [
    "import Orange\n",
    "import matplotlib.pyplot as plt\n",
    "\n",
    "n_datasets = average_error_dfs[0].shape[0]\n",
    "\n",
    "for i in range(0, average_error_mean_rank.shape[0]):\n",
    "    avranks = average_error_mean_rank[selected_methods].iloc[i].values\n",
    "    cd = Orange.evaluation.compute_CD(avranks, n_datasets) #tested on 30 datasets\n",
    "    Orange.evaluation.graph_ranks(avranks, selected_methods, cd=cd, width=6, textspace=1.5)\n",
    "    print(\"Missing percentage: \" + str(average_error_mean_rank[\"miss_percentage\"].iloc[i]))\n",
    "    plt.savefig('missing_plots/average_error_' + str(average_error_mean_rank[\"miss_percentage\"].iloc[i]).replace(\"%\", \"\") + '.pdf')  \n",
    "    plt.show()"
   ]
  },
  {
   "cell_type": "markdown",
   "metadata": {},
   "source": [
    "# 4 - Learning time\n",
    "\n",
    "Iteramos por los directorios de **discrete**, **continuous** y **mixed**, agrupando sus tiempos de ejecucion"
   ]
  },
  {
   "cell_type": "code",
   "execution_count": 34,
   "metadata": {},
   "outputs": [],
   "source": [
    "import pandas as pd\n",
    "import json\n",
    "import statistics as stats\n",
    "from os import listdir\n",
    "import numpy as np\n",
    "\n",
    "methods = [\n",
    "    \"MEAN\", \n",
    "    \"GLFM\", \n",
    "    \"HIVAE\", \n",
    "    \"MICE\", \n",
    "    \"VBSEM\",\n",
    "    \"glsl_EMPTY\"\n",
    "]\n",
    "max_percentage = 6\n",
    "n_runs = 5\n",
    "selected_directories = [\"discrete\", \"continuous\", \"mixed\"]\n",
    "time_dfs = []\n",
    "\n",
    "\n",
    "# Iterate through the missing percentage values, and for each dataset, recover the methods' results\n",
    "for i in range(1, max_percentage):\n",
    "    miss_percentage_string = \"0\" + str(i)\n",
    "\n",
    "    df_time_results = pd.DataFrame()\n",
    "\n",
    "    for directory in selected_directories:\n",
    "        \n",
    "        data_names = directories[directory]\n",
    "\n",
    "        for data_name in data_names:\n",
    "            time_results = {\"dataset\": data_name}\n",
    "            for method_name in methods:\n",
    "                json_name = data_name + \"_\" + miss_percentage_string + \"_results_\" + method_name + \".json\"\n",
    "                full_path = \"../../missing_results/\"+ directory +\"/\"+data_name+\"/\"+json_name\n",
    "                with open(full_path) as json_file:\n",
    "                    json_data = json.load(json_file)\n",
    "                    runs_data = json_data[\"runs\"]\n",
    "                    learning_times = []\n",
    "                    for i in range(1, n_runs + 1):\n",
    "                        learning_times.append(runs_data[\"run_\" + str(i)][\"learning_time\"]) \n",
    "\n",
    "                    avg_learning_time = stats.mean(learning_times) / 1000\n",
    "                    stdev_learning_time = stats.stdev(learning_times) / 1000\n",
    "\n",
    "                    time_results[method_name] = avg_learning_time\n",
    "\n",
    "            df_time_results = df_time_results.append(time_results, ignore_index=True)\n",
    "\n",
    "    time_dfs.append(df_time_results)\n",
    "    \n",
    "for i in range(0, max_percentage-1):\n",
    "    time_dfs[i][\"GLSL\"] = time_dfs[i]['glsl_EMPTY']"
   ]
  },
  {
   "cell_type": "markdown",
   "metadata": {},
   "source": [
    "## 4.1 -Average rank table"
   ]
  },
  {
   "cell_type": "code",
   "execution_count": 35,
   "metadata": {},
   "outputs": [
    {
     "data": {
      "text/html": [
       "<div>\n",
       "<style scoped>\n",
       "    .dataframe tbody tr th:only-of-type {\n",
       "        vertical-align: middle;\n",
       "    }\n",
       "\n",
       "    .dataframe tbody tr th {\n",
       "        vertical-align: top;\n",
       "    }\n",
       "\n",
       "    .dataframe thead th {\n",
       "        text-align: right;\n",
       "    }\n",
       "</style>\n",
       "<table border=\"1\" class=\"dataframe\">\n",
       "  <thead>\n",
       "    <tr style=\"text-align: right;\">\n",
       "      <th></th>\n",
       "      <th>MEAN</th>\n",
       "      <th>MICE</th>\n",
       "      <th>GLFM</th>\n",
       "      <th>HIVAE</th>\n",
       "      <th>GLSL</th>\n",
       "      <th>miss_percentage</th>\n",
       "    </tr>\n",
       "  </thead>\n",
       "  <tbody>\n",
       "    <tr>\n",
       "      <th>0</th>\n",
       "      <td>1.0</td>\n",
       "      <td>2.0</td>\n",
       "      <td>3.36</td>\n",
       "      <td>3.64</td>\n",
       "      <td>5.00</td>\n",
       "      <td>10%</td>\n",
       "    </tr>\n",
       "    <tr>\n",
       "      <th>1</th>\n",
       "      <td>1.0</td>\n",
       "      <td>2.0</td>\n",
       "      <td>3.33</td>\n",
       "      <td>3.72</td>\n",
       "      <td>4.94</td>\n",
       "      <td>20%</td>\n",
       "    </tr>\n",
       "    <tr>\n",
       "      <th>2</th>\n",
       "      <td>1.0</td>\n",
       "      <td>2.0</td>\n",
       "      <td>3.33</td>\n",
       "      <td>3.69</td>\n",
       "      <td>4.97</td>\n",
       "      <td>30%</td>\n",
       "    </tr>\n",
       "    <tr>\n",
       "      <th>3</th>\n",
       "      <td>1.0</td>\n",
       "      <td>2.0</td>\n",
       "      <td>3.36</td>\n",
       "      <td>3.75</td>\n",
       "      <td>4.89</td>\n",
       "      <td>40%</td>\n",
       "    </tr>\n",
       "    <tr>\n",
       "      <th>4</th>\n",
       "      <td>1.0</td>\n",
       "      <td>2.0</td>\n",
       "      <td>3.31</td>\n",
       "      <td>3.78</td>\n",
       "      <td>4.92</td>\n",
       "      <td>50%</td>\n",
       "    </tr>\n",
       "  </tbody>\n",
       "</table>\n",
       "</div>"
      ],
      "text/plain": [
       "   MEAN  MICE  GLFM  HIVAE  GLSL miss_percentage\n",
       "0   1.0   2.0  3.36   3.64  5.00             10%\n",
       "1   1.0   2.0  3.33   3.72  4.94             20%\n",
       "2   1.0   2.0  3.33   3.69  4.97             30%\n",
       "3   1.0   2.0  3.36   3.75  4.89             40%\n",
       "4   1.0   2.0  3.31   3.78  4.92             50%"
      ]
     },
     "execution_count": 35,
     "metadata": {},
     "output_type": "execute_result"
    }
   ],
   "source": [
    "selected_methods = [\n",
    "    \"MEAN\",\n",
    "    \"MICE\", \n",
    "    \"GLFM\", \n",
    "    \"HIVAE\", \n",
    "    \"GLSL\"\n",
    "]\n",
    "time_mean_rank = pd.DataFrame(columns=selected_methods)\n",
    "time_std_rank = pd.DataFrame(columns=selected_methods)\n",
    "\n",
    "for i in range(0,5):\n",
    "    time_rank_df = time_dfs[i][selected_methods].rank(method=\"max\", axis = 1, ascending = 1)\n",
    "    time_mean_rank = time_mean_rank.append(time_rank_df.mean(axis = 0), ignore_index=True)\n",
    "    time_std_rank = time_std_rank.append(time_rank_df.std(axis = 0), ignore_index=True)\n",
    "\n",
    "time_mean_rank[\"miss_percentage\"] = [str(i)+\"0%\" for i in range(1,6)]\n",
    "time_std_rank[\"miss_percentage\"] = [str(i)+\"0%\" for i in range(1,6)]\n",
    "time_mean_rank.round(2)"
   ]
  },
  {
   "cell_type": "code",
   "execution_count": 36,
   "metadata": {},
   "outputs": [
    {
     "data": {
      "text/html": [
       "<div>\n",
       "<style scoped>\n",
       "    .dataframe tbody tr th:only-of-type {\n",
       "        vertical-align: middle;\n",
       "    }\n",
       "\n",
       "    .dataframe tbody tr th {\n",
       "        vertical-align: top;\n",
       "    }\n",
       "\n",
       "    .dataframe thead th {\n",
       "        text-align: right;\n",
       "    }\n",
       "</style>\n",
       "<table border=\"1\" class=\"dataframe\">\n",
       "  <thead>\n",
       "    <tr style=\"text-align: right;\">\n",
       "      <th></th>\n",
       "      <th>MEAN</th>\n",
       "      <th>MICE</th>\n",
       "      <th>GLFM</th>\n",
       "      <th>HIVAE</th>\n",
       "      <th>GLSL</th>\n",
       "      <th>miss_percentage</th>\n",
       "    </tr>\n",
       "  </thead>\n",
       "  <tbody>\n",
       "    <tr>\n",
       "      <th>0</th>\n",
       "      <td>0.0</td>\n",
       "      <td>0.0</td>\n",
       "      <td>0.49</td>\n",
       "      <td>0.49</td>\n",
       "      <td>0.00</td>\n",
       "      <td>10%</td>\n",
       "    </tr>\n",
       "    <tr>\n",
       "      <th>1</th>\n",
       "      <td>0.0</td>\n",
       "      <td>0.0</td>\n",
       "      <td>0.48</td>\n",
       "      <td>0.57</td>\n",
       "      <td>0.23</td>\n",
       "      <td>20%</td>\n",
       "    </tr>\n",
       "    <tr>\n",
       "      <th>2</th>\n",
       "      <td>0.0</td>\n",
       "      <td>0.0</td>\n",
       "      <td>0.48</td>\n",
       "      <td>0.52</td>\n",
       "      <td>0.17</td>\n",
       "      <td>30%</td>\n",
       "    </tr>\n",
       "    <tr>\n",
       "      <th>3</th>\n",
       "      <td>0.0</td>\n",
       "      <td>0.0</td>\n",
       "      <td>0.49</td>\n",
       "      <td>0.60</td>\n",
       "      <td>0.40</td>\n",
       "      <td>40%</td>\n",
       "    </tr>\n",
       "    <tr>\n",
       "      <th>4</th>\n",
       "      <td>0.0</td>\n",
       "      <td>0.0</td>\n",
       "      <td>0.47</td>\n",
       "      <td>0.59</td>\n",
       "      <td>0.28</td>\n",
       "      <td>50%</td>\n",
       "    </tr>\n",
       "  </tbody>\n",
       "</table>\n",
       "</div>"
      ],
      "text/plain": [
       "   MEAN  MICE  GLFM  HIVAE  GLSL miss_percentage\n",
       "0   0.0   0.0  0.49   0.49  0.00             10%\n",
       "1   0.0   0.0  0.48   0.57  0.23             20%\n",
       "2   0.0   0.0  0.48   0.52  0.17             30%\n",
       "3   0.0   0.0  0.49   0.60  0.40             40%\n",
       "4   0.0   0.0  0.47   0.59  0.28             50%"
      ]
     },
     "execution_count": 36,
     "metadata": {},
     "output_type": "execute_result"
    }
   ],
   "source": [
    "time_std_rank.round(2)"
   ]
  },
  {
   "cell_type": "markdown",
   "metadata": {},
   "source": [
    "## 4.2 - Nemenyi tests"
   ]
  },
  {
   "cell_type": "code",
   "execution_count": 37,
   "metadata": {},
   "outputs": [
    {
     "name": "stdout",
     "output_type": "stream",
     "text": [
      "Missing percentage: 10%\n"
     ]
    },
    {
     "data": {
      "image/png": "[encoded data removed]",
      "text/plain": [
       "<Figure size 432x126 with 1 Axes>"
      ]
     },
     "metadata": {},
     "output_type": "display_data"
    },
    {
     "name": "stdout",
     "output_type": "stream",
     "text": [
      "Missing percentage: 20%\n"
     ]
    },
    {
     "data": {
      "image/png": "[encoded data removed]",
      "text/plain": [
       "<Figure size 432x126 with 1 Axes>"
      ]
     },
     "metadata": {},
     "output_type": "display_data"
    },
    {
     "name": "stdout",
     "output_type": "stream",
     "text": [
      "Missing percentage: 30%\n"
     ]
    },
    {
     "data": {
      "image/png": "[encoded data removed]",
      "text/plain": [
       "<Figure size 432x126 with 1 Axes>"
      ]
     },
     "metadata": {},
     "output_type": "display_data"
    },
    {
     "name": "stdout",
     "output_type": "stream",
     "text": [
      "Missing percentage: 40%\n"
     ]
    },
    {
     "data": {
      "image/png": "[encoded data removed]",
      "text/plain": [
       "<Figure size 432x126 with 1 Axes>"
      ]
     },
     "metadata": {},
     "output_type": "display_data"
    },
    {
     "name": "stdout",
     "output_type": "stream",
     "text": [
      "Missing percentage: 50%\n"
     ]
    },
    {
     "data": {
      "image/png": "[encoded data removed]",
      "text/plain": [
       "<Figure size 432x126 with 1 Axes>"
      ]
     },
     "metadata": {},
     "output_type": "display_data"
    }
   ],
   "source": [
    "import Orange\n",
    "import matplotlib.pyplot as plt\n",
    "\n",
    "n_datasets = time_dfs[0].shape[0]\n",
    "\n",
    "for i in range(0, time_mean_rank.shape[0]):\n",
    "    avranks = time_mean_rank[selected_methods].iloc[i].values\n",
    "    cd = Orange.evaluation.compute_CD(avranks, n_datasets) #tested on 30 datasets\n",
    "    Orange.evaluation.graph_ranks(avranks, selected_methods, cd=cd, width=6, textspace=1.5)\n",
    "    print(\"Missing percentage: \" + str(time_mean_rank[\"miss_percentage\"].iloc[i]))\n",
    "    plt.savefig('missing_plots/learning_time_' + str(time_mean_rank[\"miss_percentage\"].iloc[i]).replace(\"%\", \"\") + '.pdf')  \n",
    "    plt.show()"
   ]
  }
 ],
 "metadata": {
  "kernelspec": {
   "display_name": "Python 3",
   "language": "python",
   "name": "python3"
  },
  "language_info": {
   "codemirror_mode": {
    "name": "ipython",
    "version": 3
   },
   "file_extension": ".py",
   "mimetype": "text/x-python",
   "name": "python",
   "nbconvert_exporter": "python",
   "pygments_lexer": "ipython3",
   "version": "3.7.7"
  }
 },
 "nbformat": 4,
 "nbformat_minor": 4
}
