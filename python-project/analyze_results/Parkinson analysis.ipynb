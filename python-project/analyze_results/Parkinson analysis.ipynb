{
 "cells": [
  {
   "cell_type": "markdown",
   "metadata": {},
   "source": [
    "# Partition analysis\n",
    "\n",
    "Our greedy latent structure learner (GLSL) method has produced a model with 9 latent variables. Each latent variable groups a series of motor/non-motor symptoms. In addition, each latent variable follows a categorical distribution that can be analyzed from a clustering perspective, where a state represents a cluster.\n",
    "\n",
    "#### Purpose\n",
    "\n",
    "In this notebook we are going to analyze the age, sex, pd_onset, pd_durat of each cluster of each partition to observe if there are significant differences.\n",
    "\n",
    "#### Notes\n",
    "\n",
    "To improve the analysis we are going to rename the states of latent variables (we will also do the same on the XDSL models) and order them according to their respective symptoms intensity. This way, it will be easier to analyze the resulting plots. Once renamed we can observe that patients may belong to \"low-intensity\" clusters in certain partitions and to \"high-intensity\" clusters in other partitions.\n",
    "\n",
    "#### Hypothesis tests\n",
    "* In the case of two clusters, we will do a Mann-Whitney U-test.\n",
    "* In the case of three or more clusters, we will first do a Kruskal-Wallis test, followed by a post-hoc analysis of Tukey-HSD.\n",
    "\n",
    "We use a significance value of 0.05. Therefore p-value should be < 0.05 for the difference between clusters to be significant.\n",
    "\n",
    "-----"
   ]
  },
  {
   "cell_type": "markdown",
   "metadata": {},
   "source": [
    "#### Load data"
   ]
  },
  {
   "cell_type": "code",
   "execution_count": 2,
   "metadata": {},
   "outputs": [
    {
     "name": "stdout",
     "output_type": "stream",
     "text": [
      "(402, 6)\n",
      "(402, 31)\n"
     ]
    }
   ],
   "source": [
    "from scipy.io import arff\n",
    "import pandas as pd\n",
    "import numpy as np\n",
    "\n",
    "# Load original data with socio-demographic data, the patient number and the Hoehn Yahr scale\n",
    "# 6 attributes\n",
    "original_data = arff.loadarff(\"../../data/mds_parkinson/mds_parkinson_info.arff\")\n",
    "original_data = pd.DataFrame(original_data[0])\n",
    "print(original_data.shape)\n",
    "\n",
    "# Load partition data (data with completed partitions)\n",
    "# This data has 9 extra attributes (one for each latent variable), but doesnt have socio-demographic columns because they weren't \n",
    "# used during the learning process\n",
    "# 22 + 9 attributes\n",
    "partitions_data = arff.loadarff(\"../../clustering_results/mds_parkinson/mds_parkinson_GLSL_CIL_10.arff\")\n",
    "partitions_data = pd.DataFrame(partitions_data[0])\n",
    "print(partitions_data.shape)"
   ]
  },
  {
   "cell_type": "markdown",
   "metadata": {},
   "source": [
    "#### Object data types in UTF-8 format \n",
    "\n",
    "Object data types are in binary form (b'), we need to pass them to UTF-8"
   ]
  },
  {
   "cell_type": "code",
   "execution_count": 3,
   "metadata": {},
   "outputs": [],
   "source": [
    "# Object data types are in binary form, we need to pass them to utf-8\n",
    "object_columns = original_data.select_dtypes(\"object\").columns\n",
    "original_data[object_columns] = original_data[object_columns].stack().str.decode('utf-8').unstack()\n",
    "#original_data.head()"
   ]
  },
  {
   "cell_type": "code",
   "execution_count": 4,
   "metadata": {},
   "outputs": [],
   "source": [
    "# Object data types are in binary form, we need to pass them to utf-8\n",
    "object_columns = partitions_data.select_dtypes(\"object\").columns\n",
    "partitions_data[object_columns] = partitions_data[object_columns].stack().str.decode('utf-8').unstack()\n",
    "#partitions_data.head()"
   ]
  },
  {
   "cell_type": "markdown",
   "metadata": {},
   "source": [
    "#### Subset data for analysis"
   ]
  },
  {
   "cell_type": "code",
   "execution_count": 5,
   "metadata": {},
   "outputs": [
    {
     "name": "stdout",
     "output_type": "stream",
     "text": [
      "(402, 14)\n"
     ]
    }
   ],
   "source": [
    "analysis_columns = [\"sex\", \"age\", \"pdonset\", \"durat_pd\", \"hy\"]\n",
    "data = pd.DataFrame()\n",
    "\n",
    "data[analysis_columns] = original_data[analysis_columns]\n",
    "\n",
    "data[\"A\"] = partitions_data[\"A\"]\n",
    "data[\"B\"] = partitions_data[\"B\"]\n",
    "data[\"C\"] = partitions_data[\"C\"]\n",
    "data[\"D\"] = partitions_data[\"D\"]\n",
    "data[\"E\"] = partitions_data[\"E\"]\n",
    "data[\"F\"] = partitions_data[\"F\"]\n",
    "data[\"G\"] = partitions_data[\"G\"]\n",
    "data[\"H\"] = partitions_data[\"H\"]\n",
    "data[\"I\"] = partitions_data[\"I\"]\n",
    "\n",
    "# Sex as categorical data\n",
    "data[\"sex\"] = data[\"sex\"].astype(\"category\")\n",
    "\n",
    "print(data.shape)"
   ]
  },
  {
   "cell_type": "code",
   "execution_count": 6,
   "metadata": {},
   "outputs": [
    {
     "data": {
      "text/plain": [
       "0    71.0\n",
       "1    68.0\n",
       "2    81.0\n",
       "3    61.0\n",
       "4    63.0\n",
       "Name: age, dtype: float64"
      ]
     },
     "execution_count": 6,
     "metadata": {},
     "output_type": "execute_result"
    }
   ],
   "source": [
    "data[\"age\"].head()"
   ]
  },
  {
   "cell_type": "markdown",
   "metadata": {},
   "source": [
    "----"
   ]
  },
  {
   "cell_type": "markdown",
   "metadata": {},
   "source": [
    "## 1 - Clustering A\n",
    "\n",
    "* **Attributes:** sweating"
   ]
  },
  {
   "cell_type": "markdown",
   "metadata": {},
   "source": [
    "#### 1.1 - Prepare data analysis"
   ]
  },
  {
   "cell_type": "code",
   "execution_count": 7,
   "metadata": {},
   "outputs": [],
   "source": [
    "# First, we make this variable categorical so Pandas can order its states in the plot. Then we rename its categories accordingly (and reorder them if necessary)\n",
    "data[\"A\"] = data[\"A\"].astype(\"category\")\n",
    "data[\"A\"] = data[\"A\"].cat.rename_categories({\"0\":\"A2\", \"1\": \"A1\"})\n",
    "data[\"A\"] = data[\"A\"].cat.reorder_categories(['A1', 'A2'])"
   ]
  },
  {
   "cell_type": "markdown",
   "metadata": {},
   "source": [
    "#### 1.2 - Age"
   ]
  },
  {
   "cell_type": "markdown",
   "metadata": {},
   "source": [
    "##### Table"
   ]
  },
  {
   "cell_type": "code",
   "execution_count": 8,
   "metadata": {},
   "outputs": [
    {
     "name": "stdout",
     "output_type": "stream",
     "text": [
      "      age\n",
      "A        \n",
      "A1  67.94\n",
      "A2  64.91\n",
      "      age\n",
      "A        \n",
      "A1   9.79\n",
      "A2  10.44\n"
     ]
    }
   ],
   "source": [
    "partition = \"A\"\n",
    "columns_1 = [\"age\", partition]\n",
    "\n",
    "print(data[columns_1].groupby([partition]).mean().round(2))\n",
    "print(data[columns_1].groupby([partition]).std().round(2))"
   ]
  },
  {
   "cell_type": "markdown",
   "metadata": {},
   "source": [
    "##### Hypothesis test"
   ]
  },
  {
   "cell_type": "code",
   "execution_count": 9,
   "metadata": {},
   "outputs": [
    {
     "data": {
      "text/plain": [
       "0.00603903813524118"
      ]
     },
     "execution_count": 9,
     "metadata": {},
     "output_type": "execute_result"
    }
   ],
   "source": [
    "from scipy.stats import mannwhitneyu as mw\n",
    "\n",
    "cluster_1_data = data.loc[data[\"A\"] == \"A1\", \"age\"]\n",
    "cluster_2_data = data.loc[data[\"A\"] == \"A2\", \"age\"]\n",
    "\n",
    "mw(cluster_1_data, cluster_2_data).pvalue"
   ]
  },
  {
   "cell_type": "markdown",
   "metadata": {},
   "source": [
    "#### 1.3 - PD Onset"
   ]
  },
  {
   "cell_type": "markdown",
   "metadata": {},
   "source": [
    "##### Table"
   ]
  },
  {
   "cell_type": "code",
   "execution_count": 10,
   "metadata": {
    "collapsed": false,
    "jupyter": {
     "outputs_hidden": false
    },
    "pycharm": {
     "name": "#%%\n"
    }
   },
   "outputs": [
    {
     "name": "stdout",
     "output_type": "stream",
     "text": [
      "    pdonset\n",
      "A          \n",
      "A1    59.96\n",
      "A2    55.68\n",
      "    pdonset\n",
      "A          \n",
      "A1    10.44\n",
      "A2    11.14\n"
     ]
    }
   ],
   "source": [
    "partition = \"A\"\n",
    "columns_1 = [\"pdonset\", partition]\n",
    "\n",
    "print(data[columns_1].groupby([partition]).mean().round(2))\n",
    "print(data[columns_1].groupby([partition]).std().round(2))"
   ]
  },
  {
   "cell_type": "markdown",
   "metadata": {},
   "source": [
    "##### Hypothesis test"
   ]
  },
  {
   "cell_type": "code",
   "execution_count": 11,
   "metadata": {
    "collapsed": false,
    "jupyter": {
     "outputs_hidden": false
    },
    "pycharm": {
     "name": "#%%\n"
    }
   },
   "outputs": [
    {
     "data": {
      "text/plain": [
       "0.0007425953013215071"
      ]
     },
     "execution_count": 11,
     "metadata": {},
     "output_type": "execute_result"
    }
   ],
   "source": [
    "from scipy.stats import mannwhitneyu as mw\n",
    "\n",
    "cluster_1_data = data.loc[data[\"A\"] == \"A1\", \"pdonset\"]\n",
    "cluster_2_data = data.loc[data[\"A\"] == \"A2\", \"pdonset\"]\n",
    "\n",
    "mw(cluster_1_data, cluster_2_data).pvalue"
   ]
  },
  {
   "cell_type": "markdown",
   "metadata": {},
   "source": [
    "#### 1.4 - PD duration"
   ]
  },
  {
   "cell_type": "markdown",
   "metadata": {},
   "source": [
    "##### Table"
   ]
  },
  {
   "cell_type": "code",
   "execution_count": 12,
   "metadata": {
    "collapsed": false,
    "jupyter": {
     "outputs_hidden": false
    },
    "pycharm": {
     "name": "#%%\n"
    }
   },
   "outputs": [
    {
     "name": "stdout",
     "output_type": "stream",
     "text": [
      "    durat_pd\n",
      "A           \n",
      "A1      7.98\n",
      "A2      9.23\n",
      "    durat_pd\n",
      "A           \n",
      "A1      5.90\n",
      "A2      6.02\n"
     ]
    }
   ],
   "source": [
    "partition = \"A\"\n",
    "columns_1 = [\"durat_pd\", partition]\n",
    "\n",
    "print(data[columns_1].groupby([partition]).mean().round(2))\n",
    "print(data[columns_1].groupby([partition]).std().round(2))"
   ]
  },
  {
   "cell_type": "markdown",
   "metadata": {},
   "source": [
    "##### Hypothesis test"
   ]
  },
  {
   "cell_type": "code",
   "execution_count": 13,
   "metadata": {
    "collapsed": false,
    "jupyter": {
     "outputs_hidden": false
    },
    "pycharm": {
     "name": "#%%\n"
    }
   },
   "outputs": [
    {
     "data": {
      "text/plain": [
       "0.039907573198545966"
      ]
     },
     "execution_count": 13,
     "metadata": {},
     "output_type": "execute_result"
    }
   ],
   "source": [
    "from scipy.stats import mannwhitneyu as mw\n",
    "\n",
    "cluster_1_data = data.loc[data[\"A\"] == \"A1\", \"durat_pd\"]\n",
    "cluster_2_data = data.loc[data[\"A\"] == \"A2\", \"durat_pd\"]\n",
    "\n",
    "mw(cluster_1_data, cluster_2_data).pvalue"
   ]
  },
  {
   "cell_type": "markdown",
   "metadata": {},
   "source": [
    "#### 1.5 - Sex"
   ]
  },
  {
   "cell_type": "markdown",
   "metadata": {},
   "source": [
    "##### Table"
   ]
  },
  {
   "cell_type": "code",
   "execution_count": 14,
   "metadata": {},
   "outputs": [
    {
     "data": {
      "text/plain": [
       "A   sex   \n",
       "A1  male      64.26\n",
       "    female    35.74\n",
       "A2  male      52.17\n",
       "    female    47.83\n",
       "Name: sex, dtype: float64"
      ]
     },
     "execution_count": 14,
     "metadata": {},
     "output_type": "execute_result"
    }
   ],
   "source": [
    "import numpy as np\n",
    "\n",
    "partition = \"A\"\n",
    "columns_1 = [\"sex\", partition]\n",
    "\n",
    "cluster_1_total = data[columns_1].groupby([partition]).count().iloc[0,0]\n",
    "cluster_2_total = data[columns_1].groupby([partition]).count().iloc[1,0]\n",
    "total = np.array([cluster_1_total, cluster_1_total, cluster_2_total, cluster_2_total])\n",
    "\n",
    "# Percentage\n",
    "(data[columns_1].groupby([partition]).sex.value_counts()/total * 100).round(2) \n",
    "# Counts\n",
    "#data[columns_1].groupby([partition]).sex.value_counts()"
   ]
  },
  {
   "cell_type": "markdown",
   "metadata": {},
   "source": [
    "##### Hypothesis test\n",
    "\n",
    "Note: see https://stats.stackexchange.com/questions/110718/chi-squared-test-with-scipy-whats-the-difference-between-chi2-contingency-and"
   ]
  },
  {
   "cell_type": "code",
   "execution_count": 15,
   "metadata": {},
   "outputs": [
    {
     "data": {
      "text/plain": [
       "0.08036122361865285"
      ]
     },
     "execution_count": 15,
     "metadata": {},
     "output_type": "execute_result"
    }
   ],
   "source": [
    "from scipy.stats import chi2_contingency \n",
    "\n",
    "cluster_1_data = data.loc[data[\"A\"] == \"A1\", \"sex\"].value_counts()\n",
    "cluster_2_data = data.loc[data[\"A\"] == \"A2\", \"sex\"].value_counts()\n",
    "\n",
    "cluster_1_data_array = [cluster_1_data[0], cluster_1_data[1]]\n",
    "cluster_2_data_array = [cluster_2_data[0], cluster_2_data[1]]\n",
    "contingency_table = [cluster_1_data_array, cluster_2_data_array]\n",
    "\n",
    "tat, p, dof, expected = chi2_contingency(contingency_table)\n",
    "p"
   ]
  },
  {
   "cell_type": "markdown",
   "metadata": {},
   "source": [
    "----\n",
    "\n",
    "## 2 - Clustering B\n",
    "\n",
    "* **Attributes:** speech, fatigue, freezing, motor fluctuations, gait, postural instability"
   ]
  },
  {
   "cell_type": "markdown",
   "metadata": {},
   "source": [
    "#### 2.1 - Prepare data for analysis"
   ]
  },
  {
   "cell_type": "code",
   "execution_count": 16,
   "metadata": {
    "collapsed": false,
    "jupyter": {
     "outputs_hidden": false
    },
    "pycharm": {
     "name": "#%%\n"
    }
   },
   "outputs": [],
   "source": [
    "# First, we make this variable categorical so Pandas can order its states in the plot. Then we rename its categories accordingly (and reorder them if necessary)\n",
    "data[\"B\"] = data[\"B\"].astype(\"category\")\n",
    "data[\"B\"] = data[\"B\"].cat.rename_categories({\"0\":\"B3\", \"1\": \"B1\", \"2\": \"B2\"})\n",
    "data[\"B\"] = data[\"B\"].cat.reorder_categories(['B1', 'B2', 'B3'])"
   ]
  },
  {
   "cell_type": "markdown",
   "metadata": {},
   "source": [
    "#### 2.3 - Age"
   ]
  },
  {
   "cell_type": "markdown",
   "metadata": {},
   "source": [
    "##### Table"
   ]
  },
  {
   "cell_type": "code",
   "execution_count": 17,
   "metadata": {},
   "outputs": [
    {
     "name": "stdout",
     "output_type": "stream",
     "text": [
      "      age\n",
      "B        \n",
      "B1  67.05\n",
      "B2  68.28\n",
      "B3  64.09\n",
      "      age\n",
      "B        \n",
      "B1  10.30\n",
      "B2   9.73\n",
      "B3   8.93\n"
     ]
    }
   ],
   "source": [
    "partition = \"B\"\n",
    "columns_1 = [\"age\", partition]\n",
    "\n",
    "print(data[columns_1].groupby([partition]).mean().round(2))\n",
    "print(data[columns_1].groupby([partition]).std().round(2))"
   ]
  },
  {
   "cell_type": "markdown",
   "metadata": {},
   "source": [
    "##### Hypothesis test"
   ]
  },
  {
   "cell_type": "code",
   "execution_count": 18,
   "metadata": {},
   "outputs": [
    {
     "data": {
      "text/plain": [
       "0.07796802519079396"
      ]
     },
     "execution_count": 18,
     "metadata": {},
     "output_type": "execute_result"
    }
   ],
   "source": [
    "from scipy.stats import kruskal\n",
    "\n",
    "cluster_1_data = data.loc[data[\"B\"] == \"B1\", \"age\"]\n",
    "cluster_2_data = data.loc[data[\"B\"] == \"B2\", \"age\"]\n",
    "cluster_3_data = data.loc[data[\"B\"] == \"B3\", \"age\"]\n",
    "\n",
    "kruskal(cluster_1_data, cluster_2_data, cluster_3_data).pvalue"
   ]
  },
  {
   "cell_type": "markdown",
   "metadata": {},
   "source": [
    "#### 2.4 - PD onset"
   ]
  },
  {
   "cell_type": "markdown",
   "metadata": {},
   "source": [
    "##### Table"
   ]
  },
  {
   "cell_type": "code",
   "execution_count": 19,
   "metadata": {},
   "outputs": [
    {
     "name": "stdout",
     "output_type": "stream",
     "text": [
      "    pdonset\n",
      "B          \n",
      "B1    60.37\n",
      "B2    58.91\n",
      "B3    55.00\n",
      "    pdonset\n",
      "B          \n",
      "B1    11.01\n",
      "B2    10.61\n",
      "B3     7.96\n"
     ]
    }
   ],
   "source": [
    "partition = \"B\"\n",
    "columns_1 = [\"pdonset\", partition]\n",
    "\n",
    "print(data[columns_1].groupby([partition]).mean().round(2))\n",
    "print(data[columns_1].groupby([partition]).std().round(2))"
   ]
  },
  {
   "cell_type": "markdown",
   "metadata": {},
   "source": [
    "##### Hypothesis test"
   ]
  },
  {
   "cell_type": "code",
   "execution_count": 20,
   "metadata": {},
   "outputs": [
    {
     "data": {
      "text/plain": [
       "0.01812264697353745"
      ]
     },
     "execution_count": 20,
     "metadata": {},
     "output_type": "execute_result"
    }
   ],
   "source": [
    "from scipy.stats import kruskal\n",
    "\n",
    "cluster_1_data = data.loc[data[\"B\"] == \"B1\", \"pdonset\"]\n",
    "cluster_2_data = data.loc[data[\"B\"] == \"B2\", \"pdonset\"]\n",
    "cluster_3_data = data.loc[data[\"B\"] == \"B3\", \"pdonset\"]\n",
    "\n",
    "kruskal(cluster_1_data, cluster_2_data, cluster_3_data).pvalue"
   ]
  },
  {
   "cell_type": "code",
   "execution_count": 21,
   "metadata": {},
   "outputs": [
    {
     "name": "stdout",
     "output_type": "stream",
     "text": [
      " Multiple Comparison of Means - Tukey HSD, FWER=0.05 \n",
      "=====================================================\n",
      "group1 group2 meandiff p-adj   lower    upper  reject\n",
      "-----------------------------------------------------\n",
      "    B1     B2   -1.458 0.3868  -4.0585  1.1426  False\n",
      "    B1     B3  -5.3721  0.024 -10.1753 -0.5689   True\n",
      "    B2     B3  -3.9141 0.1296  -8.6676  0.8393  False\n",
      "-----------------------------------------------------\n"
     ]
    }
   ],
   "source": [
    "from statsmodels.stats.multicomp import pairwise_tukeyhsd\n",
    "\n",
    "print(pairwise_tukeyhsd(endog=data[\"pdonset\"], groups=data[\"B\"]))"
   ]
  },
  {
   "cell_type": "markdown",
   "metadata": {},
   "source": [
    "#### 2.5 - PD duration"
   ]
  },
  {
   "cell_type": "markdown",
   "metadata": {},
   "source": [
    "##### Table"
   ]
  },
  {
   "cell_type": "code",
   "execution_count": 22,
   "metadata": {},
   "outputs": [
    {
     "name": "stdout",
     "output_type": "stream",
     "text": [
      "    durat_pd\n",
      "B           \n",
      "B1      6.68\n",
      "B2      9.37\n",
      "B3      9.09\n",
      "    durat_pd\n",
      "B           \n",
      "B1      5.07\n",
      "B2      6.33\n",
      "B3      6.02\n"
     ]
    }
   ],
   "source": [
    "partition = \"B\"\n",
    "columns_1 = [\"durat_pd\", partition]\n",
    "\n",
    "print(data[columns_1].groupby([partition]).mean().round(2))\n",
    "print(data[columns_1].groupby([partition]).std().round(2))"
   ]
  },
  {
   "cell_type": "markdown",
   "metadata": {},
   "source": [
    "##### Hypothesis test"
   ]
  },
  {
   "cell_type": "code",
   "execution_count": 23,
   "metadata": {},
   "outputs": [
    {
     "data": {
      "text/plain": [
       "8.03994061176031e-05"
      ]
     },
     "execution_count": 23,
     "metadata": {},
     "output_type": "execute_result"
    }
   ],
   "source": [
    "from scipy.stats import kruskal\n",
    "\n",
    "cluster_1_data = data.loc[data[\"B\"] == \"B1\", \"durat_pd\"]\n",
    "cluster_2_data = data.loc[data[\"B\"] == \"B2\", \"durat_pd\"]\n",
    "cluster_3_data = data.loc[data[\"B\"] == \"B3\", \"durat_pd\"]\n",
    "\n",
    "kruskal(cluster_1_data, cluster_2_data, cluster_3_data).pvalue"
   ]
  },
  {
   "cell_type": "markdown",
   "metadata": {},
   "source": [
    "Given that the Kruskal-Wallis test returns a p-value < 0.05, we can now apply the Tukey-HSD post-hoc"
   ]
  },
  {
   "cell_type": "code",
   "execution_count": 24,
   "metadata": {},
   "outputs": [
    {
     "name": "stdout",
     "output_type": "stream",
     "text": [
      "Multiple Comparison of Means - Tukey HSD, FWER=0.05\n",
      "==================================================\n",
      "group1 group2 meandiff p-adj  lower  upper  reject\n",
      "--------------------------------------------------\n",
      "    B1     B2   2.6885 0.001  1.2673 4.1096   True\n",
      "    B1     B3   2.4135 0.079 -0.2115 5.0385  False\n",
      "    B2     B3  -0.2749   0.9 -2.8727 2.3229  False\n",
      "--------------------------------------------------\n"
     ]
    }
   ],
   "source": [
    "from statsmodels.stats.multicomp import pairwise_tukeyhsd\n",
    "\n",
    "print(pairwise_tukeyhsd(endog=data[\"durat_pd\"], groups=data[\"B\"]))"
   ]
  },
  {
   "cell_type": "markdown",
   "metadata": {},
   "source": [
    "#### 2.6 - Sex"
   ]
  },
  {
   "cell_type": "markdown",
   "metadata": {},
   "source": [
    "##### Table"
   ]
  },
  {
   "cell_type": "code",
   "execution_count": 25,
   "metadata": {},
   "outputs": [
    {
     "data": {
      "text/plain": [
       "B   sex   \n",
       "B1  male      64.53\n",
       "    female    35.47\n",
       "B2  male      62.12\n",
       "    female    37.88\n",
       "B3  female    50.00\n",
       "    male      50.00\n",
       "Name: sex, dtype: float64"
      ]
     },
     "execution_count": 25,
     "metadata": {},
     "output_type": "execute_result"
    }
   ],
   "source": [
    "import numpy as np\n",
    "\n",
    "partition = \"B\"\n",
    "columns_1 = [\"sex\", partition]\n",
    "\n",
    "cluster_1_total = data[columns_1].groupby([partition]).count().iloc[0,0]\n",
    "cluster_2_total = data[columns_1].groupby([partition]).count().iloc[1,0]\n",
    "cluster_3_total = data[columns_1].groupby([partition]).count().iloc[2,0]\n",
    "total = np.array([cluster_1_total, cluster_1_total, cluster_2_total, cluster_2_total, cluster_3_total, cluster_3_total])\n",
    "\n",
    "# Percentage\n",
    "(data[columns_1].groupby([partition]).sex.value_counts()/total * 100).round(2) \n",
    "# Counts\n",
    "#data[columns_1].groupby([partition]).sex.value_counts()"
   ]
  },
  {
   "cell_type": "markdown",
   "metadata": {},
   "source": [
    "##### Hypothesis test\n",
    "\n",
    "Note: see https://stats.stackexchange.com/questions/110718/chi-squared-test-with-scipy-whats-the-difference-between-chi2-contingency-and"
   ]
  },
  {
   "cell_type": "code",
   "execution_count": 26,
   "metadata": {},
   "outputs": [
    {
     "data": {
      "text/plain": [
       "0.297481820258858"
      ]
     },
     "execution_count": 26,
     "metadata": {},
     "output_type": "execute_result"
    }
   ],
   "source": [
    "from scipy.stats import chi2_contingency \n",
    "\n",
    "cluster_1_data = data.loc[data[\"B\"] == \"B1\", \"sex\"].value_counts()\n",
    "cluster_2_data = data.loc[data[\"B\"] == \"B2\", \"sex\"].value_counts()\n",
    "cluster_3_data = data.loc[data[\"B\"] == \"B3\", \"sex\"].value_counts()\n",
    "\n",
    "cluster_1_data_array = [cluster_1_data[0], cluster_1_data[1]]\n",
    "cluster_2_data_array = [cluster_2_data[0], cluster_2_data[1]]\n",
    "cluster_3_data_array = [cluster_3_data[0], cluster_3_data[1]]\n",
    "contingency_table = [cluster_1_data_array, cluster_2_data_array, cluster_3_data_array]\n",
    "\n",
    "tat, p, dof, expected = chi2_contingency(contingency_table)\n",
    "p"
   ]
  },
  {
   "cell_type": "markdown",
   "metadata": {},
   "source": [
    "----\n",
    "\n",
    "## 3 - Clustering C\n",
    "\n",
    "* **Attributes:** smell, rigidity"
   ]
  },
  {
   "cell_type": "markdown",
   "metadata": {
    "pycharm": {
     "name": "#%% md\n"
    }
   },
   "source": [
    "#### 3.1 - Prepare data for analysis"
   ]
  },
  {
   "cell_type": "code",
   "execution_count": 27,
   "metadata": {
    "collapsed": false,
    "jupyter": {
     "outputs_hidden": false
    },
    "pycharm": {
     "name": "#%%\n"
    }
   },
   "outputs": [],
   "source": [
    "# First, we make this variable categorical so Pandas can order its states in the plot. Then we rename its categories accordingly (and reorder them if necessary)\n",
    "data[\"C\"] = data[\"C\"].astype(\"category\")\n",
    "data[\"C\"] = data[\"C\"].cat.rename_categories({\"0\":\"C1\", \"1\": \"C2\"})\n",
    "data[\"C\"] = data[\"C\"].cat.reorder_categories(['C1', 'C2'])"
   ]
  },
  {
   "cell_type": "markdown",
   "metadata": {},
   "source": [
    "#### 3.3 - Age"
   ]
  },
  {
   "cell_type": "markdown",
   "metadata": {},
   "source": [
    "##### Table"
   ]
  },
  {
   "cell_type": "code",
   "execution_count": 28,
   "metadata": {},
   "outputs": [
    {
     "name": "stdout",
     "output_type": "stream",
     "text": [
      "      age\n",
      "C        \n",
      "C1  67.97\n",
      "C2  66.97\n",
      "      age\n",
      "C        \n",
      "C1  10.22\n",
      "C2   9.74\n"
     ]
    }
   ],
   "source": [
    "partition = \"C\"\n",
    "columns_1 = [\"age\", partition]\n",
    "\n",
    "print(data[columns_1].groupby([partition]).mean().round(2))\n",
    "print(data[columns_1].groupby([partition]).std().round(2))"
   ]
  },
  {
   "cell_type": "markdown",
   "metadata": {},
   "source": [
    "##### Hypothesis test\n",
    "In the case of three or more clusters, we will first do a Kruskal-Wallis test, followed by a post-hoc analysis of Tukey-HSD."
   ]
  },
  {
   "cell_type": "code",
   "execution_count": 29,
   "metadata": {},
   "outputs": [
    {
     "data": {
      "text/plain": [
       "0.058665838685665"
      ]
     },
     "execution_count": 29,
     "metadata": {},
     "output_type": "execute_result"
    }
   ],
   "source": [
    "from scipy.stats import mannwhitneyu as mw\n",
    "\n",
    "cluster_1_data = data.loc[data[\"C\"] == \"C1\", \"age\"]\n",
    "cluster_2_data = data.loc[data[\"C\"] == \"C2\", \"age\"]\n",
    "\n",
    "mw(cluster_1_data, cluster_2_data).pvalue"
   ]
  },
  {
   "cell_type": "markdown",
   "metadata": {},
   "source": [
    "#### 3.4 - PD onset"
   ]
  },
  {
   "cell_type": "markdown",
   "metadata": {},
   "source": [
    "##### Table"
   ]
  },
  {
   "cell_type": "code",
   "execution_count": 30,
   "metadata": {},
   "outputs": [
    {
     "name": "stdout",
     "output_type": "stream",
     "text": [
      "    pdonset\n",
      "C          \n",
      "C1    60.01\n",
      "C2    58.58\n",
      "    pdonset\n",
      "C          \n",
      "C1     10.5\n",
      "C2     10.8\n"
     ]
    }
   ],
   "source": [
    "partition = \"C\"\n",
    "columns_1 = [\"pdonset\", partition]\n",
    "\n",
    "print(data[columns_1].groupby([partition]).mean().round(2))\n",
    "print(data[columns_1].groupby([partition]).std().round(2))"
   ]
  },
  {
   "cell_type": "markdown",
   "metadata": {},
   "source": [
    "##### Hypothesis test"
   ]
  },
  {
   "cell_type": "code",
   "execution_count": 31,
   "metadata": {},
   "outputs": [
    {
     "data": {
      "text/plain": [
       "0.04747256770006673"
      ]
     },
     "execution_count": 31,
     "metadata": {},
     "output_type": "execute_result"
    }
   ],
   "source": [
    "from scipy.stats import mannwhitneyu as mw\n",
    "\n",
    "cluster_1_data = data.loc[data[\"C\"] == \"C1\", \"pdonset\"]\n",
    "cluster_2_data = data.loc[data[\"C\"] == \"C2\", \"pdonset\"]\n",
    "\n",
    "mw(cluster_1_data, cluster_2_data).pvalue"
   ]
  },
  {
   "cell_type": "markdown",
   "metadata": {},
   "source": [
    "#### 3.5 - PD duration"
   ]
  },
  {
   "cell_type": "markdown",
   "metadata": {},
   "source": [
    "##### Table"
   ]
  },
  {
   "cell_type": "code",
   "execution_count": 32,
   "metadata": {},
   "outputs": [
    {
     "name": "stdout",
     "output_type": "stream",
     "text": [
      "    durat_pd\n",
      "C           \n",
      "C1      7.96\n",
      "C2      8.39\n",
      "    durat_pd\n",
      "C           \n",
      "C1      6.16\n",
      "C2      5.74\n"
     ]
    }
   ],
   "source": [
    "partition = \"C\"\n",
    "columns_1 = [\"durat_pd\", partition]\n",
    "\n",
    "print(data[columns_1].groupby([partition]).mean().round(2))\n",
    "print(data[columns_1].groupby([partition]).std().round(2))"
   ]
  },
  {
   "cell_type": "markdown",
   "metadata": {},
   "source": [
    "##### Hypothesis test"
   ]
  },
  {
   "cell_type": "code",
   "execution_count": 33,
   "metadata": {},
   "outputs": [
    {
     "data": {
      "text/plain": [
       "0.13979979106834056"
      ]
     },
     "execution_count": 33,
     "metadata": {},
     "output_type": "execute_result"
    }
   ],
   "source": [
    "from scipy.stats import mannwhitneyu as mw\n",
    "\n",
    "cluster_1_data = data.loc[data[\"C\"] == \"C1\", \"durat_pd\"]\n",
    "cluster_2_data = data.loc[data[\"C\"] == \"C2\", \"durat_pd\"]\n",
    "\n",
    "mw(cluster_1_data, cluster_2_data).pvalue"
   ]
  },
  {
   "cell_type": "markdown",
   "metadata": {},
   "source": [
    "#### 3.6 - Sex"
   ]
  },
  {
   "cell_type": "markdown",
   "metadata": {},
   "source": [
    "##### Table"
   ]
  },
  {
   "cell_type": "code",
   "execution_count": 34,
   "metadata": {},
   "outputs": [
    {
     "data": {
      "text/plain": [
       "C   sex   \n",
       "C1  male      63.74\n",
       "    female    36.26\n",
       "C2  male      60.91\n",
       "    female    39.09\n",
       "Name: sex, dtype: float64"
      ]
     },
     "execution_count": 34,
     "metadata": {},
     "output_type": "execute_result"
    }
   ],
   "source": [
    "import numpy as np\n",
    "\n",
    "partition = \"C\"\n",
    "columns_1 = [\"sex\", partition]\n",
    "\n",
    "cluster_1_total = data[columns_1].groupby([partition]).count().iloc[0,0]\n",
    "cluster_2_total = data[columns_1].groupby([partition]).count().iloc[1,0]\n",
    "total = np.array([cluster_1_total, cluster_1_total, cluster_2_total, cluster_2_total])\n",
    "\n",
    "# Percentage\n",
    "(data[columns_1].groupby([partition]).sex.value_counts()/total * 100).round(2) \n",
    "# Counts\n",
    "#data[columns_1].groupby([partition]).sex.value_counts()"
   ]
  },
  {
   "cell_type": "markdown",
   "metadata": {},
   "source": [
    "##### Hypothesis test\n",
    "https://stats.stackexchange.com/questions/110718/chi-squared-test-with-scipy-whats-the-difference-between-chi2-contingency-and"
   ]
  },
  {
   "cell_type": "code",
   "execution_count": 35,
   "metadata": {},
   "outputs": [
    {
     "data": {
      "text/plain": [
       "0.6322614975902524"
      ]
     },
     "execution_count": 35,
     "metadata": {},
     "output_type": "execute_result"
    }
   ],
   "source": [
    "from scipy.stats import chi2_contingency \n",
    "\n",
    "cluster_1_data = data.loc[data[\"C\"] == \"C1\", \"sex\"].value_counts()\n",
    "cluster_2_data = data.loc[data[\"C\"] == \"C2\", \"sex\"].value_counts()\n",
    "\n",
    "cluster_1_data_array = [cluster_1_data[0], cluster_1_data[1]]\n",
    "cluster_2_data_array = [cluster_2_data[0], cluster_2_data[1]]\n",
    "contingency_table = [cluster_1_data_array, cluster_2_data_array]\n",
    "\n",
    "tat, p, dof, expected = chi2_contingency(contingency_table)\n",
    "p"
   ]
  },
  {
   "cell_type": "markdown",
   "metadata": {},
   "source": [
    "----\n",
    "## 4 - Clustering D\n",
    "\n",
    "* **Attributes:** bradykinesia, weight change"
   ]
  },
  {
   "cell_type": "markdown",
   "metadata": {
    "pycharm": {
     "name": "#%% md\n"
    }
   },
   "source": [
    "#### 4.1 - Prepare data for analysis"
   ]
  },
  {
   "cell_type": "code",
   "execution_count": 36,
   "metadata": {
    "collapsed": false,
    "jupyter": {
     "outputs_hidden": false
    },
    "pycharm": {
     "name": "#%%\n"
    }
   },
   "outputs": [],
   "source": [
    "# First, we make this variable categorical so Pandas can order its states in the plot. Then we rename its categories accordingly (and reorder them if necessary)\n",
    "data[\"D\"] = data[\"D\"].astype(\"category\")\n",
    "data[\"D\"] = data[\"D\"].cat.rename_categories({\"0\":\"D1\", \"1\": \"D2\"})\n",
    "data[\"D\"] = data[\"D\"].cat.reorder_categories(['D1', 'D2'])"
   ]
  },
  {
   "cell_type": "markdown",
   "metadata": {},
   "source": [
    "#### 4.3 - Age"
   ]
  },
  {
   "cell_type": "markdown",
   "metadata": {},
   "source": [
    "##### Table"
   ]
  },
  {
   "cell_type": "code",
   "execution_count": 37,
   "metadata": {},
   "outputs": [
    {
     "name": "stdout",
     "output_type": "stream",
     "text": [
      "      age\n",
      "D        \n",
      "D1  67.21\n",
      "D2  68.74\n",
      "      age\n",
      "D        \n",
      "D1  10.09\n",
      "D2   9.07\n"
     ]
    }
   ],
   "source": [
    "partition = \"D\"\n",
    "columns_1 = [\"age\", partition]\n",
    "\n",
    "print(data[columns_1].groupby([partition]).mean().round(2))\n",
    "print(data[columns_1].groupby([partition]).std().round(2))"
   ]
  },
  {
   "cell_type": "markdown",
   "metadata": {},
   "source": [
    "##### Hypothesis test"
   ]
  },
  {
   "cell_type": "code",
   "execution_count": 38,
   "metadata": {},
   "outputs": [
    {
     "data": {
      "text/plain": [
       "0.14163393709267103"
      ]
     },
     "execution_count": 38,
     "metadata": {},
     "output_type": "execute_result"
    }
   ],
   "source": [
    "from scipy.stats import mannwhitneyu as mw\n",
    "\n",
    "cluster_1_data = data.loc[data[\"D\"] == \"D1\", \"age\"]\n",
    "cluster_2_data = data.loc[data[\"D\"] == \"D2\", \"age\"]\n",
    "\n",
    "mw(cluster_1_data, cluster_2_data).pvalue"
   ]
  },
  {
   "cell_type": "markdown",
   "metadata": {},
   "source": [
    "#### 4.4 - PD onset"
   ]
  },
  {
   "cell_type": "markdown",
   "metadata": {},
   "source": [
    "##### Table"
   ]
  },
  {
   "cell_type": "code",
   "execution_count": 39,
   "metadata": {},
   "outputs": [
    {
     "name": "stdout",
     "output_type": "stream",
     "text": [
      "    pdonset\n",
      "D          \n",
      "D1    59.18\n",
      "D2    59.51\n",
      "    pdonset\n",
      "D          \n",
      "D1    10.60\n",
      "D2    11.22\n"
     ]
    }
   ],
   "source": [
    "partition = \"D\"\n",
    "columns_1 = [\"pdonset\", partition]\n",
    "\n",
    "print(data[columns_1].groupby([partition]).mean().round(2))\n",
    "print(data[columns_1].groupby([partition]).std().round(2))"
   ]
  },
  {
   "cell_type": "markdown",
   "metadata": {},
   "source": [
    "##### Hypothesis test"
   ]
  },
  {
   "cell_type": "code",
   "execution_count": 40,
   "metadata": {},
   "outputs": [
    {
     "data": {
      "text/plain": [
       "0.4575971094553487"
      ]
     },
     "execution_count": 40,
     "metadata": {},
     "output_type": "execute_result"
    }
   ],
   "source": [
    "from scipy.stats import mannwhitneyu as mw\n",
    "\n",
    "cluster_1_data = data.loc[data[\"D\"] == \"D1\", \"pdonset\"]\n",
    "cluster_2_data = data.loc[data[\"D\"] == \"D2\", \"pdonset\"]\n",
    "\n",
    "mw(cluster_1_data, cluster_2_data).pvalue"
   ]
  },
  {
   "cell_type": "markdown",
   "metadata": {},
   "source": [
    "#### 4.5 - PD duration"
   ]
  },
  {
   "cell_type": "markdown",
   "metadata": {},
   "source": [
    "##### Table"
   ]
  },
  {
   "cell_type": "code",
   "execution_count": 41,
   "metadata": {},
   "outputs": [
    {
     "name": "stdout",
     "output_type": "stream",
     "text": [
      "    durat_pd\n",
      "D           \n",
      "D1      8.03\n",
      "D2      9.23\n",
      "    durat_pd\n",
      "D           \n",
      "D1      5.86\n",
      "D2      6.28\n"
     ]
    }
   ],
   "source": [
    "partition = \"D\"\n",
    "columns_1 = [\"durat_pd\", partition]\n",
    "\n",
    "print(data[columns_1].groupby([partition]).mean().round(2))\n",
    "print(data[columns_1].groupby([partition]).std().round(2))"
   ]
  },
  {
   "cell_type": "markdown",
   "metadata": {},
   "source": [
    "##### Hypothesis test"
   ]
  },
  {
   "cell_type": "code",
   "execution_count": 42,
   "metadata": {},
   "outputs": [
    {
     "data": {
      "text/plain": [
       "0.07895421525658242"
      ]
     },
     "execution_count": 42,
     "metadata": {},
     "output_type": "execute_result"
    }
   ],
   "source": [
    "from scipy.stats import mannwhitneyu as mw\n",
    "\n",
    "cluster_1_data = data.loc[data[\"D\"] == \"D1\", \"durat_pd\"]\n",
    "cluster_2_data = data.loc[data[\"D\"] == \"D2\", \"durat_pd\"]\n",
    "\n",
    "mw(cluster_1_data, cluster_2_data).pvalue"
   ]
  },
  {
   "cell_type": "markdown",
   "metadata": {},
   "source": [
    "#### 4.6 - Sex"
   ]
  },
  {
   "cell_type": "markdown",
   "metadata": {},
   "source": [
    "##### Table"
   ]
  },
  {
   "cell_type": "code",
   "execution_count": 43,
   "metadata": {},
   "outputs": [
    {
     "data": {
      "text/plain": [
       "D   sex   \n",
       "D1  male      63.48\n",
       "    female    36.52\n",
       "D2  male      54.39\n",
       "    female    45.61\n",
       "Name: sex, dtype: float64"
      ]
     },
     "execution_count": 43,
     "metadata": {},
     "output_type": "execute_result"
    }
   ],
   "source": [
    "import numpy as np\n",
    "\n",
    "partition = \"D\"\n",
    "columns_1 = [\"sex\", partition]\n",
    "\n",
    "cluster_1_total = data[columns_1].groupby([partition]).count().iloc[0,0]\n",
    "cluster_2_total = data[columns_1].groupby([partition]).count().iloc[1,0]\n",
    "total = np.array([cluster_1_total, cluster_1_total, cluster_2_total, cluster_2_total])\n",
    "\n",
    "# Percentage\n",
    "(data[columns_1].groupby([partition]).sex.value_counts()/total * 100).round(2) \n",
    "# Counts\n",
    "#data[columns_1].groupby([partition]).sex.value_counts()"
   ]
  },
  {
   "cell_type": "markdown",
   "metadata": {},
   "source": [
    "##### Hypothesis test\n",
    "https://stats.stackexchange.com/questions/110718/chi-squared-test-with-scipy-whats-the-difference-between-chi2-contingency-and"
   ]
  },
  {
   "cell_type": "code",
   "execution_count": 44,
   "metadata": {},
   "outputs": [
    {
     "data": {
      "text/plain": [
       "0.24442596763326768"
      ]
     },
     "execution_count": 44,
     "metadata": {},
     "output_type": "execute_result"
    }
   ],
   "source": [
    "from scipy.stats import chi2_contingency \n",
    "\n",
    "cluster_1_data = data.loc[data[\"D\"] == \"D1\", \"sex\"].value_counts()\n",
    "cluster_2_data = data.loc[data[\"D\"] == \"D2\", \"sex\"].value_counts()\n",
    "\n",
    "cluster_1_data_array = [cluster_1_data[0], cluster_1_data[1]]\n",
    "cluster_2_data_array = [cluster_2_data[0], cluster_2_data[1]]\n",
    "contingency_table = [cluster_1_data_array, cluster_2_data_array]\n",
    "\n",
    "tat, p, dof, expected = chi2_contingency(contingency_table)\n",
    "p"
   ]
  },
  {
   "cell_type": "markdown",
   "metadata": {},
   "source": [
    "----\n",
    "\n",
    "## 5 - Clustering E\n",
    "\n",
    "* **Attributes:** gastrointestinal"
   ]
  },
  {
   "cell_type": "markdown",
   "metadata": {
    "pycharm": {
     "name": "#%% md\n"
    }
   },
   "source": [
    "#### 5.1 - Prepare data for analysis"
   ]
  },
  {
   "cell_type": "code",
   "execution_count": 45,
   "metadata": {
    "collapsed": false,
    "jupyter": {
     "outputs_hidden": false
    },
    "pycharm": {
     "name": "#%%\n"
    }
   },
   "outputs": [],
   "source": [
    "# First, we make this variable categorical so Pandas can order its states in the plot. Then we rename its categories accordingly (and reorder them if necessary)\n",
    "data[\"E\"] = data[\"E\"].astype(\"category\")\n",
    "data[\"E\"] = data[\"E\"].cat.rename_categories({\"0\":\"E2\", \"1\": \"E1\"})\n",
    "data[\"E\"] = data[\"E\"].cat.reorder_categories(['E1', 'E2'])"
   ]
  },
  {
   "cell_type": "markdown",
   "metadata": {},
   "source": [
    "#### 5.3 - Age"
   ]
  },
  {
   "cell_type": "markdown",
   "metadata": {},
   "source": [
    "##### Table"
   ]
  },
  {
   "cell_type": "code",
   "execution_count": 46,
   "metadata": {},
   "outputs": [
    {
     "name": "stdout",
     "output_type": "stream",
     "text": [
      "      age\n",
      "E        \n",
      "E1  66.05\n",
      "E2  69.22\n",
      "      age\n",
      "E        \n",
      "E1  10.44\n",
      "E2   9.01\n"
     ]
    }
   ],
   "source": [
    "partition = \"E\"\n",
    "columns_1 = [\"age\", partition]\n",
    "\n",
    "print(data[columns_1].groupby([partition]).mean().round(2))\n",
    "print(data[columns_1].groupby([partition]).std().round(2))"
   ]
  },
  {
   "cell_type": "markdown",
   "metadata": {},
   "source": [
    "##### Hypothesis test"
   ]
  },
  {
   "cell_type": "code",
   "execution_count": 47,
   "metadata": {},
   "outputs": [
    {
     "data": {
      "text/plain": [
       "0.0013151106676227002"
      ]
     },
     "execution_count": 47,
     "metadata": {},
     "output_type": "execute_result"
    }
   ],
   "source": [
    "from scipy.stats import mannwhitneyu as mw\n",
    "\n",
    "cluster_1_data = data.loc[data[\"E\"] == \"E1\", \"age\"]\n",
    "cluster_2_data = data.loc[data[\"E\"] == \"E2\", \"age\"]\n",
    "\n",
    "mw(cluster_1_data, cluster_2_data).pvalue"
   ]
  },
  {
   "cell_type": "markdown",
   "metadata": {},
   "source": [
    "#### 5.4 - PD onset"
   ]
  },
  {
   "cell_type": "markdown",
   "metadata": {},
   "source": [
    "##### Table"
   ]
  },
  {
   "cell_type": "code",
   "execution_count": 48,
   "metadata": {},
   "outputs": [
    {
     "name": "stdout",
     "output_type": "stream",
     "text": [
      "    pdonset\n",
      "E          \n",
      "E1    58.92\n",
      "E2    59.63\n",
      "    pdonset\n",
      "E          \n",
      "E1    11.02\n",
      "E2    10.22\n"
     ]
    }
   ],
   "source": [
    "partition = \"E\"\n",
    "columns_1 = [\"pdonset\", partition]\n",
    "\n",
    "print(data[columns_1].groupby([partition]).mean().round(2))\n",
    "print(data[columns_1].groupby([partition]).std().round(2))"
   ]
  },
  {
   "cell_type": "markdown",
   "metadata": {},
   "source": [
    "##### Hypothesis test"
   ]
  },
  {
   "cell_type": "code",
   "execution_count": 49,
   "metadata": {},
   "outputs": [
    {
     "data": {
      "text/plain": [
       "0.2619010875034382"
      ]
     },
     "execution_count": 49,
     "metadata": {},
     "output_type": "execute_result"
    }
   ],
   "source": [
    "from scipy.stats import mannwhitneyu as mw\n",
    "\n",
    "cluster_1_data = data.loc[data[\"E\"] == \"E1\", \"pdonset\"]\n",
    "cluster_2_data = data.loc[data[\"E\"] == \"E2\", \"pdonset\"]\n",
    "\n",
    "mw(cluster_1_data, cluster_2_data).pvalue"
   ]
  },
  {
   "cell_type": "markdown",
   "metadata": {},
   "source": [
    "#### 5.5 - PD duration"
   ]
  },
  {
   "cell_type": "markdown",
   "metadata": {},
   "source": [
    "##### Table"
   ]
  },
  {
   "cell_type": "code",
   "execution_count": 50,
   "metadata": {},
   "outputs": [
    {
     "name": "stdout",
     "output_type": "stream",
     "text": [
      "    durat_pd\n",
      "E           \n",
      "E1      7.13\n",
      "E2      9.60\n",
      "    durat_pd\n",
      "E           \n",
      "E1      5.65\n",
      "E2      6.01\n"
     ]
    }
   ],
   "source": [
    "partition = \"E\"\n",
    "columns_1 = [\"durat_pd\", partition]\n",
    "\n",
    "print(data[columns_1].groupby([partition]).mean().round(2))\n",
    "print(data[columns_1].groupby([partition]).std().round(2))"
   ]
  },
  {
   "cell_type": "markdown",
   "metadata": {},
   "source": [
    "##### Hypothesis test"
   ]
  },
  {
   "cell_type": "code",
   "execution_count": 51,
   "metadata": {},
   "outputs": [
    {
     "data": {
      "text/plain": [
       "3.4991394008328035e-06"
      ]
     },
     "execution_count": 51,
     "metadata": {},
     "output_type": "execute_result"
    }
   ],
   "source": [
    "from scipy.stats import mannwhitneyu as mw\n",
    "\n",
    "cluster_1_data = data.loc[data[\"E\"] == \"E1\", \"durat_pd\"]\n",
    "cluster_2_data = data.loc[data[\"E\"] == \"E2\", \"durat_pd\"]\n",
    "\n",
    "mw(cluster_1_data, cluster_2_data).pvalue"
   ]
  },
  {
   "cell_type": "markdown",
   "metadata": {},
   "source": [
    "#### 5.6 - Sex"
   ]
  },
  {
   "cell_type": "markdown",
   "metadata": {},
   "source": [
    "##### Table"
   ]
  },
  {
   "cell_type": "code",
   "execution_count": 52,
   "metadata": {},
   "outputs": [
    {
     "data": {
      "text/plain": [
       "E   sex   \n",
       "E1  male      59.65\n",
       "    female    40.35\n",
       "E2  male      65.52\n",
       "    female    34.48\n",
       "Name: sex, dtype: float64"
      ]
     },
     "execution_count": 52,
     "metadata": {},
     "output_type": "execute_result"
    }
   ],
   "source": [
    "import numpy as np\n",
    "\n",
    "partition = \"E\"\n",
    "columns_1 = [\"sex\", partition]\n",
    "\n",
    "cluster_1_total = data[columns_1].groupby([partition]).count().iloc[0,0]\n",
    "cluster_2_total = data[columns_1].groupby([partition]).count().iloc[1,0]\n",
    "total = np.array([cluster_1_total, cluster_1_total, cluster_2_total, cluster_2_total])\n",
    "\n",
    "# Percentage\n",
    "(data[columns_1].groupby([partition]).sex.value_counts()/total * 100).round(2) \n",
    "# Counts\n",
    "#data[columns_1].groupby([partition]).sex.value_counts()"
   ]
  },
  {
   "cell_type": "markdown",
   "metadata": {},
   "source": [
    "##### Hypothesis test\n",
    "\n",
    "https://stats.stackexchange.com/questions/110718/chi-squared-test-with-scipy-whats-the-difference-between-chi2-contingency-and"
   ]
  },
  {
   "cell_type": "code",
   "execution_count": 53,
   "metadata": {},
   "outputs": [
    {
     "data": {
      "text/plain": [
       "0.27204515565701215"
      ]
     },
     "execution_count": 53,
     "metadata": {},
     "output_type": "execute_result"
    }
   ],
   "source": [
    "from scipy.stats import chi2_contingency \n",
    "\n",
    "cluster_1_data = data.loc[data[\"E\"] == \"E1\", \"sex\"].value_counts()\n",
    "cluster_2_data = data.loc[data[\"E\"] == \"E2\", \"sex\"].value_counts()\n",
    "\n",
    "cluster_1_data_array = [cluster_1_data[0], cluster_1_data[1]]\n",
    "cluster_2_data_array = [cluster_2_data[0], cluster_2_data[1]]\n",
    "contingency_table = [cluster_1_data_array, cluster_2_data_array]\n",
    "\n",
    "tat, p, dof, expected = chi2_contingency(contingency_table)\n",
    "p"
   ]
  },
  {
   "cell_type": "markdown",
   "metadata": {},
   "source": [
    "----\n",
    "\n",
    "## 6 - Clustering F\n",
    "\n",
    "* **Attributes:** hallucinations"
   ]
  },
  {
   "cell_type": "markdown",
   "metadata": {
    "pycharm": {
     "name": "#%% md\n"
    }
   },
   "source": [
    "#### 6.1 - Prepare data for analysis"
   ]
  },
  {
   "cell_type": "code",
   "execution_count": 54,
   "metadata": {
    "collapsed": false,
    "jupyter": {
     "outputs_hidden": false
    },
    "pycharm": {
     "name": "#%%\n"
    }
   },
   "outputs": [],
   "source": [
    "# First, we make this variable categorical so Pandas can order its states in the plot. Then we rename its categories accordingly (and reorder them if necessary)\n",
    "data[\"F\"] = data[\"F\"].astype(\"category\")\n",
    "data[\"F\"] = data[\"F\"].cat.rename_categories({\"0\":\"F2\", \"1\": \"F1\"})\n",
    "data[\"F\"] = data[\"F\"].cat.reorder_categories(['F1', 'F2'])"
   ]
  },
  {
   "cell_type": "markdown",
   "metadata": {},
   "source": [
    "#### 6.3 - Age"
   ]
  },
  {
   "cell_type": "markdown",
   "metadata": {},
   "source": [
    "##### Table"
   ]
  },
  {
   "cell_type": "code",
   "execution_count": 55,
   "metadata": {},
   "outputs": [
    {
     "name": "stdout",
     "output_type": "stream",
     "text": [
      "      age\n",
      "F        \n",
      "F1  67.10\n",
      "F2  68.52\n",
      "      age\n",
      "F        \n",
      "F1  10.27\n",
      "F2   8.78\n"
     ]
    }
   ],
   "source": [
    "partition = \"F\"\n",
    "columns_1 = [\"age\", partition]\n",
    "\n",
    "print(data[columns_1].groupby([partition]).mean().round(2))\n",
    "print(data[columns_1].groupby([partition]).std().round(2))"
   ]
  },
  {
   "cell_type": "markdown",
   "metadata": {},
   "source": [
    "##### Hypothesis test"
   ]
  },
  {
   "cell_type": "code",
   "execution_count": 56,
   "metadata": {},
   "outputs": [
    {
     "data": {
      "text/plain": [
       "0.12015941548766618"
      ]
     },
     "execution_count": 56,
     "metadata": {},
     "output_type": "execute_result"
    }
   ],
   "source": [
    "from scipy.stats import mannwhitneyu as mw\n",
    "\n",
    "cluster_1_data = data.loc[data[\"F\"] == \"F1\", \"age\"]\n",
    "cluster_2_data = data.loc[data[\"F\"] == \"F2\", \"age\"]\n",
    "\n",
    "mw(cluster_1_data, cluster_2_data).pvalue"
   ]
  },
  {
   "cell_type": "markdown",
   "metadata": {},
   "source": [
    "#### 6.4 - PD onset"
   ]
  },
  {
   "cell_type": "markdown",
   "metadata": {},
   "source": [
    "##### Table"
   ]
  },
  {
   "cell_type": "code",
   "execution_count": 57,
   "metadata": {},
   "outputs": [
    {
     "name": "stdout",
     "output_type": "stream",
     "text": [
      "    pdonset\n",
      "F          \n",
      "F1    59.59\n",
      "F2    58.00\n",
      "    pdonset\n",
      "F          \n",
      "F1    10.90\n",
      "F2     9.84\n"
     ]
    }
   ],
   "source": [
    "partition = \"F\"\n",
    "columns_1 = [\"pdonset\", partition]\n",
    "\n",
    "print(data[columns_1].groupby([partition]).mean().round(2))\n",
    "print(data[columns_1].groupby([partition]).std().round(2))"
   ]
  },
  {
   "cell_type": "markdown",
   "metadata": {},
   "source": [
    "##### Hypothesis test"
   ]
  },
  {
   "cell_type": "code",
   "execution_count": 58,
   "metadata": {},
   "outputs": [
    {
     "data": {
      "text/plain": [
       "0.14595270795352638"
      ]
     },
     "execution_count": 58,
     "metadata": {},
     "output_type": "execute_result"
    }
   ],
   "source": [
    "from scipy.stats import mannwhitneyu as mw\n",
    "\n",
    "cluster_1_data = data.loc[data[\"F\"] == \"F1\", \"pdonset\"]\n",
    "cluster_2_data = data.loc[data[\"F\"] == \"F2\", \"pdonset\"]\n",
    "\n",
    "mw(cluster_1_data, cluster_2_data).pvalue"
   ]
  },
  {
   "cell_type": "markdown",
   "metadata": {},
   "source": [
    "#### 6.5 - PD duration"
   ]
  },
  {
   "cell_type": "markdown",
   "metadata": {},
   "source": [
    "##### Table"
   ]
  },
  {
   "cell_type": "code",
   "execution_count": 59,
   "metadata": {},
   "outputs": [
    {
     "name": "stdout",
     "output_type": "stream",
     "text": [
      "    durat_pd\n",
      "F           \n",
      "F1      7.51\n",
      "F2     10.52\n",
      "    durat_pd\n",
      "F           \n",
      "F1      5.67\n",
      "F2      6.22\n"
     ]
    }
   ],
   "source": [
    "partition = \"F\"\n",
    "columns_1 = [\"durat_pd\", partition]\n",
    "\n",
    "print(data[columns_1].groupby([partition]).mean().round(2))\n",
    "print(data[columns_1].groupby([partition]).std().round(2))"
   ]
  },
  {
   "cell_type": "markdown",
   "metadata": {},
   "source": [
    "##### Hypothesis test"
   ]
  },
  {
   "cell_type": "code",
   "execution_count": 60,
   "metadata": {},
   "outputs": [
    {
     "data": {
      "text/plain": [
       "6.83754306787582e-06"
      ]
     },
     "execution_count": 60,
     "metadata": {},
     "output_type": "execute_result"
    }
   ],
   "source": [
    "from scipy.stats import mannwhitneyu as mw\n",
    "\n",
    "cluster_1_data = data.loc[data[\"F\"] == \"F1\", \"durat_pd\"]\n",
    "cluster_2_data = data.loc[data[\"F\"] == \"F2\", \"durat_pd\"]\n",
    "\n",
    "mw(cluster_1_data, cluster_2_data).pvalue"
   ]
  },
  {
   "cell_type": "markdown",
   "metadata": {},
   "source": [
    "#### 6.6 - Sex"
   ]
  },
  {
   "cell_type": "markdown",
   "metadata": {},
   "source": [
    "##### Table"
   ]
  },
  {
   "cell_type": "code",
   "execution_count": 61,
   "metadata": {},
   "outputs": [
    {
     "data": {
      "text/plain": [
       "F   sex   \n",
       "F1  male      61.29\n",
       "    female    38.71\n",
       "F2  male      65.22\n",
       "    female    34.78\n",
       "Name: sex, dtype: float64"
      ]
     },
     "execution_count": 61,
     "metadata": {},
     "output_type": "execute_result"
    }
   ],
   "source": [
    "import numpy as np\n",
    "\n",
    "partition = \"F\"\n",
    "columns_1 = [\"sex\", partition]\n",
    "\n",
    "cluster_1_total = data[columns_1].groupby([partition]).count().iloc[0,0]\n",
    "cluster_2_total = data[columns_1].groupby([partition]).count().iloc[1,0]\n",
    "total = np.array([cluster_1_total, cluster_1_total, cluster_2_total, cluster_2_total])\n",
    "\n",
    "# Percentage\n",
    "(data[columns_1].groupby([partition]).sex.value_counts()/total * 100).round(2) \n",
    "# Counts\n",
    "#data[columns_1].groupby([partition]).sex.value_counts()"
   ]
  },
  {
   "cell_type": "markdown",
   "metadata": {},
   "source": [
    "##### Hypothesis test\n",
    "\n",
    "https://stats.stackexchange.com/questions/110718/chi-squared-test-with-scipy-whats-the-difference-between-chi2-contingency-and"
   ]
  },
  {
   "cell_type": "code",
   "execution_count": 62,
   "metadata": {},
   "outputs": [
    {
     "data": {
      "text/plain": [
       "0.5756782162103371"
      ]
     },
     "execution_count": 62,
     "metadata": {},
     "output_type": "execute_result"
    }
   ],
   "source": [
    "from scipy.stats import chi2_contingency \n",
    "\n",
    "cluster_1_data = data.loc[data[\"F\"] == \"F1\", \"sex\"].value_counts()\n",
    "cluster_2_data = data.loc[data[\"F\"] == \"F2\", \"sex\"].value_counts()\n",
    "\n",
    "cluster_1_data_array = [cluster_1_data[0], cluster_1_data[1]]\n",
    "cluster_2_data_array = [cluster_2_data[0], cluster_2_data[1]]\n",
    "contingency_table = [cluster_1_data_array, cluster_2_data_array]\n",
    "\n",
    "tat, p, dof, expected = chi2_contingency(contingency_table)\n",
    "p"
   ]
  },
  {
   "cell_type": "markdown",
   "metadata": {},
   "source": [
    "## 7 - Clustering G\n",
    "\n",
    "* **Attributes:** dyskinesias, cardiovascular"
   ]
  },
  {
   "cell_type": "markdown",
   "metadata": {
    "pycharm": {
     "name": "#%% md\n"
    }
   },
   "source": [
    "#### 7.1 - Prepare data for analysis"
   ]
  },
  {
   "cell_type": "code",
   "execution_count": 63,
   "metadata": {
    "collapsed": false,
    "jupyter": {
     "outputs_hidden": false
    },
    "pycharm": {
     "name": "#%%\n"
    }
   },
   "outputs": [],
   "source": [
    "# First, we make this variable categorical so Pandas can order its states in the plot. Then we rename its categories accordingly (and reorder them if necessary)\n",
    "data[\"G\"] = data[\"G\"].astype(\"category\")\n",
    "data[\"G\"] = data[\"G\"].cat.rename_categories({\"0\":\"G2\", \"1\": \"G1\"})\n",
    "data[\"G\"] = data[\"G\"].cat.reorder_categories(['G1', 'G2'])"
   ]
  },
  {
   "cell_type": "markdown",
   "metadata": {},
   "source": [
    "#### 7.3 - Age"
   ]
  },
  {
   "cell_type": "markdown",
   "metadata": {},
   "source": [
    "##### Table"
   ]
  },
  {
   "cell_type": "code",
   "execution_count": 64,
   "metadata": {},
   "outputs": [
    {
     "name": "stdout",
     "output_type": "stream",
     "text": [
      "      age\n",
      "G        \n",
      "G1  67.00\n",
      "G2  68.13\n",
      "      age\n",
      "G        \n",
      "G1  10.07\n",
      "G2   9.76\n"
     ]
    }
   ],
   "source": [
    "partition = \"G\"\n",
    "columns_1 = [\"age\", partition]\n",
    "\n",
    "print(data[columns_1].groupby([partition]).mean().round(2))\n",
    "print(data[columns_1].groupby([partition]).std().round(2))"
   ]
  },
  {
   "cell_type": "markdown",
   "metadata": {},
   "source": [
    "##### Hypothesis test"
   ]
  },
  {
   "cell_type": "code",
   "execution_count": 65,
   "metadata": {},
   "outputs": [
    {
     "data": {
      "text/plain": [
       "0.13835531181409694"
      ]
     },
     "execution_count": 65,
     "metadata": {},
     "output_type": "execute_result"
    }
   ],
   "source": [
    "from scipy.stats import mannwhitneyu as mw\n",
    "\n",
    "cluster_1_data = data.loc[data[\"G\"] == \"G1\", \"age\"]\n",
    "cluster_2_data = data.loc[data[\"G\"] == \"G2\", \"age\"]\n",
    "\n",
    "mw(cluster_1_data, cluster_2_data).pvalue"
   ]
  },
  {
   "cell_type": "markdown",
   "metadata": {},
   "source": [
    "#### 7.4 - PD onset"
   ]
  },
  {
   "cell_type": "markdown",
   "metadata": {},
   "source": [
    "##### Table"
   ]
  },
  {
   "cell_type": "code",
   "execution_count": 66,
   "metadata": {},
   "outputs": [
    {
     "name": "stdout",
     "output_type": "stream",
     "text": [
      "    pdonset\n",
      "G          \n",
      "G1     59.3\n",
      "G2     59.1\n",
      "    pdonset\n",
      "G          \n",
      "G1    11.01\n",
      "G2    10.12\n"
     ]
    }
   ],
   "source": [
    "partition = \"G\"\n",
    "columns_1 = [\"pdonset\", partition]\n",
    "\n",
    "print(data[columns_1].groupby([partition]).mean().round(2))\n",
    "print(data[columns_1].groupby([partition]).std().round(2))"
   ]
  },
  {
   "cell_type": "markdown",
   "metadata": {},
   "source": [
    "##### Hypothesis test"
   ]
  },
  {
   "cell_type": "code",
   "execution_count": 67,
   "metadata": {},
   "outputs": [
    {
     "data": {
      "text/plain": [
       "0.4620272295021909"
      ]
     },
     "execution_count": 67,
     "metadata": {},
     "output_type": "execute_result"
    }
   ],
   "source": [
    "from scipy.stats import mannwhitneyu as mw\n",
    "\n",
    "cluster_1_data = data.loc[data[\"G\"] == \"G1\", \"pdonset\"]\n",
    "cluster_2_data = data.loc[data[\"G\"] == \"G2\", \"pdonset\"]\n",
    "\n",
    "mw(cluster_1_data, cluster_2_data).pvalue"
   ]
  },
  {
   "cell_type": "markdown",
   "metadata": {},
   "source": [
    "#### 7.5 - PD duration"
   ]
  },
  {
   "cell_type": "markdown",
   "metadata": {},
   "source": [
    "##### Table"
   ]
  },
  {
   "cell_type": "code",
   "execution_count": 68,
   "metadata": {},
   "outputs": [
    {
     "name": "stdout",
     "output_type": "stream",
     "text": [
      "    durat_pd\n",
      "G           \n",
      "G1      7.70\n",
      "G2      9.03\n",
      "    durat_pd\n",
      "G           \n",
      "G1      5.59\n",
      "G2      6.39\n"
     ]
    }
   ],
   "source": [
    "partition = \"G\"\n",
    "columns_1 = [\"durat_pd\", partition]\n",
    "\n",
    "print(data[columns_1].groupby([partition]).mean().round(2))\n",
    "print(data[columns_1].groupby([partition]).std().round(2))"
   ]
  },
  {
   "cell_type": "markdown",
   "metadata": {},
   "source": [
    "##### Hypothesis test"
   ]
  },
  {
   "cell_type": "code",
   "execution_count": 69,
   "metadata": {},
   "outputs": [
    {
     "data": {
      "text/plain": [
       "0.020801137904933816"
      ]
     },
     "execution_count": 69,
     "metadata": {},
     "output_type": "execute_result"
    }
   ],
   "source": [
    "from scipy.stats import mannwhitneyu as mw\n",
    "\n",
    "cluster_1_data = data.loc[data[\"G\"] == \"G1\", \"durat_pd\"]\n",
    "cluster_2_data = data.loc[data[\"G\"] == \"G2\", \"durat_pd\"]\n",
    "\n",
    "mw(cluster_1_data, cluster_2_data).pvalue"
   ]
  },
  {
   "cell_type": "markdown",
   "metadata": {},
   "source": [
    "#### 7.6 - Sex"
   ]
  },
  {
   "cell_type": "markdown",
   "metadata": {},
   "source": [
    "##### Table"
   ]
  },
  {
   "cell_type": "code",
   "execution_count": 70,
   "metadata": {},
   "outputs": [
    {
     "data": {
      "text/plain": [
       "G   sex   \n",
       "G1  male      61.35\n",
       "    female    38.65\n",
       "G2  male      63.58\n",
       "    female    36.42\n",
       "Name: sex, dtype: float64"
      ]
     },
     "execution_count": 70,
     "metadata": {},
     "output_type": "execute_result"
    }
   ],
   "source": [
    "import numpy as np\n",
    "\n",
    "partition = \"G\"\n",
    "columns_1 = [\"sex\", partition]\n",
    "\n",
    "cluster_1_total = data[columns_1].groupby([partition]).count().iloc[0,0]\n",
    "cluster_2_total = data[columns_1].groupby([partition]).count().iloc[1,0]\n",
    "total = np.array([cluster_1_total, cluster_1_total, cluster_2_total, cluster_2_total])\n",
    "\n",
    "# Percentage\n",
    "(data[columns_1].groupby([partition]).sex.value_counts()/total * 100).round(2) \n",
    "# Counts\n",
    "#data[columns_1].groupby([partition]).sex.value_counts()"
   ]
  },
  {
   "cell_type": "markdown",
   "metadata": {},
   "source": [
    "##### Hypothesis test\n",
    "\n",
    "https://stats.stackexchange.com/questions/110718/chi-squared-test-with-scipy-whats-the-difference-between-chi2-contingency-and"
   ]
  },
  {
   "cell_type": "code",
   "execution_count": 71,
   "metadata": {},
   "outputs": [
    {
     "data": {
      "text/plain": [
       "0.7348717408135872"
      ]
     },
     "execution_count": 71,
     "metadata": {},
     "output_type": "execute_result"
    }
   ],
   "source": [
    "from scipy.stats import chi2_contingency \n",
    "\n",
    "cluster_1_data = data.loc[data[\"G\"] == \"G1\", \"sex\"].value_counts()\n",
    "cluster_2_data = data.loc[data[\"G\"] == \"G2\", \"sex\"].value_counts()\n",
    "\n",
    "cluster_1_data_array = [cluster_1_data[0], cluster_1_data[1]]\n",
    "cluster_2_data_array = [cluster_2_data[0], cluster_2_data[1]]\n",
    "contingency_table = [cluster_1_data_array, cluster_2_data_array]\n",
    "\n",
    "tat, p, dof, expected = chi2_contingency(contingency_table)\n",
    "p"
   ]
  },
  {
   "cell_type": "markdown",
   "metadata": {},
   "source": [
    "-----\n",
    "\n",
    "## 8 - Clustering H\n",
    "\n",
    "* **Attributes**: attention, urinary"
   ]
  },
  {
   "cell_type": "markdown",
   "metadata": {
    "pycharm": {
     "name": "#%% md\n"
    }
   },
   "source": [
    "#### 8.1 - Prepare data for analysis"
   ]
  },
  {
   "cell_type": "code",
   "execution_count": 72,
   "metadata": {
    "collapsed": false,
    "jupyter": {
     "outputs_hidden": false
    },
    "pycharm": {
     "name": "#%%\n"
    }
   },
   "outputs": [],
   "source": [
    "# First, we make this variable categorical so Pandas can order its states in the plot. Then we rename its categories accordingly (and reorder them if necessary)\n",
    "data[\"H\"] = data[\"H\"].astype(\"category\")\n",
    "data[\"H\"] = data[\"H\"].cat.rename_categories({\"0\":\"H1\", \"1\": \"H2\"})\n",
    "data[\"H\"] = data[\"H\"].cat.reorder_categories(['H1', 'H2'])"
   ]
  },
  {
   "cell_type": "markdown",
   "metadata": {},
   "source": [
    "#### 8.3 - Age"
   ]
  },
  {
   "cell_type": "markdown",
   "metadata": {},
   "source": [
    "##### Table"
   ]
  },
  {
   "cell_type": "code",
   "execution_count": 73,
   "metadata": {},
   "outputs": [
    {
     "name": "stdout",
     "output_type": "stream",
     "text": [
      "      age\n",
      "H        \n",
      "H1  66.52\n",
      "H2  68.29\n",
      "      age\n",
      "H        \n",
      "H1   9.85\n",
      "H2  10.01\n"
     ]
    }
   ],
   "source": [
    "partition = \"H\"\n",
    "columns_1 = [\"age\", partition]\n",
    "\n",
    "print(data[columns_1].groupby([partition]).mean().round(2))\n",
    "print(data[columns_1].groupby([partition]).std().round(2))"
   ]
  },
  {
   "cell_type": "markdown",
   "metadata": {},
   "source": [
    "##### Hypothesis test"
   ]
  },
  {
   "cell_type": "code",
   "execution_count": 74,
   "metadata": {},
   "outputs": [
    {
     "data": {
      "text/plain": [
       "0.07542872751909142"
      ]
     },
     "execution_count": 74,
     "metadata": {},
     "output_type": "execute_result"
    }
   ],
   "source": [
    "from scipy.stats import mannwhitneyu as mw\n",
    "\n",
    "cluster_1_data = data.loc[data[\"H\"] == \"H1\", \"age\"]\n",
    "cluster_2_data = data.loc[data[\"H\"] == \"H2\", \"age\"]\n",
    "\n",
    "mw(cluster_1_data, cluster_2_data).pvalue"
   ]
  },
  {
   "cell_type": "markdown",
   "metadata": {},
   "source": [
    "#### 8.4 - PD onset"
   ]
  },
  {
   "cell_type": "markdown",
   "metadata": {},
   "source": [
    "##### Table"
   ]
  },
  {
   "cell_type": "code",
   "execution_count": 75,
   "metadata": {},
   "outputs": [
    {
     "name": "stdout",
     "output_type": "stream",
     "text": [
      "    pdonset\n",
      "H          \n",
      "H1    59.06\n",
      "H2    59.39\n",
      "    pdonset\n",
      "H          \n",
      "H1    10.78\n",
      "H2    10.60\n"
     ]
    }
   ],
   "source": [
    "partition = \"H\"\n",
    "columns_1 = [\"pdonset\", partition]\n",
    "\n",
    "print(data[columns_1].groupby([partition]).mean().round(2))\n",
    "print(data[columns_1].groupby([partition]).std().round(2))"
   ]
  },
  {
   "cell_type": "markdown",
   "metadata": {},
   "source": [
    "##### Hypothesis test"
   ]
  },
  {
   "cell_type": "code",
   "execution_count": 76,
   "metadata": {},
   "outputs": [
    {
     "data": {
      "text/plain": [
       "0.498800490008505"
      ]
     },
     "execution_count": 76,
     "metadata": {},
     "output_type": "execute_result"
    }
   ],
   "source": [
    "from scipy.stats import mannwhitneyu as mw\n",
    "\n",
    "cluster_1_data = data.loc[data[\"H\"] == \"H1\", \"pdonset\"]\n",
    "cluster_2_data = data.loc[data[\"H\"] == \"H2\", \"pdonset\"]\n",
    "\n",
    "mw(cluster_1_data, cluster_2_data).pvalue"
   ]
  },
  {
   "cell_type": "markdown",
   "metadata": {},
   "source": [
    "#### 8.5 - PD duration"
   ]
  },
  {
   "cell_type": "markdown",
   "metadata": {},
   "source": [
    "##### Table"
   ]
  },
  {
   "cell_type": "code",
   "execution_count": 77,
   "metadata": {},
   "outputs": [
    {
     "name": "stdout",
     "output_type": "stream",
     "text": [
      "    durat_pd\n",
      "H           \n",
      "H1      7.46\n",
      "H2      8.90\n",
      "    durat_pd\n",
      "H           \n",
      "H1      5.86\n",
      "H2      5.93\n"
     ]
    }
   ],
   "source": [
    "partition = \"H\"\n",
    "columns_1 = [\"durat_pd\", partition]\n",
    "\n",
    "print(data[columns_1].groupby([partition]).mean().round(2))\n",
    "print(data[columns_1].groupby([partition]).std().round(2))"
   ]
  },
  {
   "cell_type": "markdown",
   "metadata": {},
   "source": [
    "##### Hypothesis test"
   ]
  },
  {
   "cell_type": "code",
   "execution_count": 78,
   "metadata": {},
   "outputs": [
    {
     "data": {
      "text/plain": [
       "0.0028741633236330595"
      ]
     },
     "execution_count": 78,
     "metadata": {},
     "output_type": "execute_result"
    }
   ],
   "source": [
    "from scipy.stats import mannwhitneyu as mw\n",
    "\n",
    "cluster_1_data = data.loc[data[\"H\"] == \"H1\", \"durat_pd\"]\n",
    "cluster_2_data = data.loc[data[\"H\"] == \"H2\", \"durat_pd\"]\n",
    "\n",
    "mw(cluster_1_data, cluster_2_data).pvalue"
   ]
  },
  {
   "cell_type": "markdown",
   "metadata": {},
   "source": [
    "#### 8.6 - Sex"
   ]
  },
  {
   "cell_type": "markdown",
   "metadata": {},
   "source": [
    "##### Table"
   ]
  },
  {
   "cell_type": "code",
   "execution_count": 79,
   "metadata": {},
   "outputs": [
    {
     "data": {
      "text/plain": [
       "H   sex   \n",
       "H1  male      58.88\n",
       "    female    41.12\n",
       "H2  male      65.37\n",
       "    female    34.63\n",
       "Name: sex, dtype: float64"
      ]
     },
     "execution_count": 79,
     "metadata": {},
     "output_type": "execute_result"
    }
   ],
   "source": [
    "import numpy as np\n",
    "\n",
    "partition = \"H\"\n",
    "columns_1 = [\"sex\", partition]\n",
    "\n",
    "cluster_1_total = data[columns_1].groupby([partition]).count().iloc[0,0]\n",
    "cluster_2_total = data[columns_1].groupby([partition]).count().iloc[1,0]\n",
    "total = np.array([cluster_1_total, cluster_1_total, cluster_2_total, cluster_2_total])\n",
    "\n",
    "# Percentage\n",
    "(data[columns_1].groupby([partition]).sex.value_counts()/total * 100).round(2) \n",
    "# Counts\n",
    "#data[columns_1].groupby([partition]).sex.value_counts()"
   ]
  },
  {
   "cell_type": "markdown",
   "metadata": {},
   "source": [
    "##### Hypothesis test\n",
    "\n",
    "https://stats.stackexchange.com/questions/110718/chi-squared-test-with-scipy-whats-the-difference-between-chi2-contingency-and"
   ]
  },
  {
   "cell_type": "code",
   "execution_count": 80,
   "metadata": {},
   "outputs": [
    {
     "data": {
      "text/plain": [
       "0.2160679058384105"
      ]
     },
     "execution_count": 80,
     "metadata": {},
     "output_type": "execute_result"
    }
   ],
   "source": [
    "from scipy.stats import chi2_contingency \n",
    "\n",
    "cluster_1_data = data.loc[data[\"H\"] == \"H1\", \"sex\"].value_counts()\n",
    "cluster_2_data = data.loc[data[\"H\"] == \"H2\", \"sex\"].value_counts()\n",
    "\n",
    "cluster_1_data_array = [cluster_1_data[0], cluster_1_data[1]]\n",
    "cluster_2_data_array = [cluster_2_data[0], cluster_2_data[1]]\n",
    "contingency_table = [cluster_1_data_array, cluster_2_data_array]\n",
    "\n",
    "tat, p, dof, expected = chi2_contingency(contingency_table)\n",
    "p"
   ]
  },
  {
   "cell_type": "markdown",
   "metadata": {},
   "source": [
    "## 9 - Clustering I\n",
    "\n",
    "* **Attributes:** sexual, mood"
   ]
  },
  {
   "cell_type": "markdown",
   "metadata": {
    "pycharm": {
     "name": "#%% md\n"
    }
   },
   "source": [
    "#### 9.1 - Prepare data for analysis"
   ]
  },
  {
   "cell_type": "code",
   "execution_count": 81,
   "metadata": {
    "collapsed": false,
    "jupyter": {
     "outputs_hidden": false
    },
    "pycharm": {
     "name": "#%%\n"
    }
   },
   "outputs": [],
   "source": [
    "# First, we make this variable categorical so Pandas can order its states in the plot. Then we rename its categories accordingly (and reorder them if necessary)\n",
    "data[\"I\"] = data[\"I\"].astype(\"category\")\n",
    "data[\"I\"] = data[\"I\"].cat.rename_categories({\"0\":\"I2\", \"1\": \"I1\"})\n",
    "data[\"I\"] = data[\"I\"].cat.reorder_categories(['I1', 'I2'])"
   ]
  },
  {
   "cell_type": "markdown",
   "metadata": {},
   "source": [
    "#### 9.3 - Age"
   ]
  },
  {
   "cell_type": "markdown",
   "metadata": {},
   "source": [
    "##### Table"
   ]
  },
  {
   "cell_type": "code",
   "execution_count": 82,
   "metadata": {},
   "outputs": [
    {
     "name": "stdout",
     "output_type": "stream",
     "text": [
      "      age\n",
      "I        \n",
      "I1  67.05\n",
      "I2  67.81\n",
      "      age\n",
      "I        \n",
      "I1  10.94\n",
      "I2   8.83\n"
     ]
    }
   ],
   "source": [
    "partition = \"I\"\n",
    "columns_1 = [\"age\", partition]\n",
    "\n",
    "print(data[columns_1].groupby([partition]).mean().round(2))\n",
    "print(data[columns_1].groupby([partition]).std().round(2))"
   ]
  },
  {
   "cell_type": "markdown",
   "metadata": {},
   "source": [
    "##### Hypothesis test"
   ]
  },
  {
   "cell_type": "code",
   "execution_count": 83,
   "metadata": {},
   "outputs": [
    {
     "data": {
      "text/plain": [
       "0.39135499838365956"
      ]
     },
     "execution_count": 83,
     "metadata": {},
     "output_type": "execute_result"
    }
   ],
   "source": [
    "from scipy.stats import mannwhitneyu as mw\n",
    "\n",
    "cluster_1_data = data.loc[data[\"I\"] == \"I1\", \"age\"]\n",
    "cluster_2_data = data.loc[data[\"I\"] == \"I2\", \"age\"]\n",
    "\n",
    "mw(cluster_1_data, cluster_2_data).pvalue"
   ]
  },
  {
   "cell_type": "markdown",
   "metadata": {},
   "source": [
    "#### 9.4 - PD onset"
   ]
  },
  {
   "cell_type": "markdown",
   "metadata": {},
   "source": [
    "##### Table"
   ]
  },
  {
   "cell_type": "code",
   "execution_count": 84,
   "metadata": {},
   "outputs": [
    {
     "name": "stdout",
     "output_type": "stream",
     "text": [
      "    pdonset\n",
      "I          \n",
      "I1    59.67\n",
      "I2    58.77\n",
      "    pdonset\n",
      "I          \n",
      "I1    11.45\n",
      "I2     9.82\n"
     ]
    }
   ],
   "source": [
    "partition = \"I\"\n",
    "columns_1 = [\"pdonset\", partition]\n",
    "\n",
    "print(data[columns_1].groupby([partition]).mean().round(2))\n",
    "print(data[columns_1].groupby([partition]).std().round(2))"
   ]
  },
  {
   "cell_type": "markdown",
   "metadata": {},
   "source": [
    "##### Hypothesis test"
   ]
  },
  {
   "cell_type": "code",
   "execution_count": 85,
   "metadata": {},
   "outputs": [
    {
     "data": {
      "text/plain": [
       "0.1466139168534677"
      ]
     },
     "execution_count": 85,
     "metadata": {},
     "output_type": "execute_result"
    }
   ],
   "source": [
    "from scipy.stats import mannwhitneyu as mw\n",
    "\n",
    "cluster_1_data = data.loc[data[\"I\"] == \"I1\", \"pdonset\"]\n",
    "cluster_2_data = data.loc[data[\"I\"] == \"I2\", \"pdonset\"]\n",
    "\n",
    "mw(cluster_1_data, cluster_2_data).pvalue"
   ]
  },
  {
   "cell_type": "markdown",
   "metadata": {},
   "source": [
    "#### 9.5 - PD duration"
   ]
  },
  {
   "cell_type": "markdown",
   "metadata": {},
   "source": [
    "##### Table"
   ]
  },
  {
   "cell_type": "code",
   "execution_count": 86,
   "metadata": {},
   "outputs": [
    {
     "name": "stdout",
     "output_type": "stream",
     "text": [
      "    durat_pd\n",
      "I           \n",
      "I1      7.38\n",
      "I2      9.05\n",
      "    durat_pd\n",
      "I           \n",
      "I1      5.51\n",
      "I2      6.24\n"
     ]
    }
   ],
   "source": [
    "partition = \"I\"\n",
    "columns_1 = [\"durat_pd\", partition]\n",
    "\n",
    "print(data[columns_1].groupby([partition]).mean().round(2))\n",
    "print(data[columns_1].groupby([partition]).std().round(2))"
   ]
  },
  {
   "cell_type": "markdown",
   "metadata": {},
   "source": [
    "##### Hypothesis test"
   ]
  },
  {
   "cell_type": "code",
   "execution_count": 87,
   "metadata": {},
   "outputs": [
    {
     "data": {
      "text/plain": [
       "0.00298979283150035"
      ]
     },
     "execution_count": 87,
     "metadata": {},
     "output_type": "execute_result"
    }
   ],
   "source": [
    "from scipy.stats import mannwhitneyu as mw\n",
    "\n",
    "cluster_1_data = data.loc[data[\"I\"] == \"I1\", \"durat_pd\"]\n",
    "cluster_2_data = data.loc[data[\"I\"] == \"I2\", \"durat_pd\"]\n",
    "\n",
    "mw(cluster_1_data, cluster_2_data).pvalue"
   ]
  },
  {
   "cell_type": "markdown",
   "metadata": {},
   "source": [
    "#### 9.6 - Sex"
   ]
  },
  {
   "cell_type": "markdown",
   "metadata": {},
   "source": [
    "##### Table"
   ]
  },
  {
   "cell_type": "code",
   "execution_count": 88,
   "metadata": {},
   "outputs": [
    {
     "data": {
      "text/plain": [
       "I   sex   \n",
       "I1  male      57.07\n",
       "    female    42.93\n",
       "I2  male      67.51\n",
       "    female    32.49\n",
       "Name: sex, dtype: float64"
      ]
     },
     "execution_count": 88,
     "metadata": {},
     "output_type": "execute_result"
    }
   ],
   "source": [
    "import numpy as np\n",
    "\n",
    "partition = \"I\"\n",
    "columns_1 = [\"sex\", partition]\n",
    "\n",
    "cluster_1_total = data[columns_1].groupby([partition]).count().iloc[0,0]\n",
    "cluster_2_total = data[columns_1].groupby([partition]).count().iloc[1,0]\n",
    "total = np.array([cluster_1_total, cluster_1_total, cluster_2_total, cluster_2_total])\n",
    "\n",
    "# Percentage\n",
    "(data[columns_1].groupby([partition]).sex.value_counts()/total * 100).round(2) \n",
    "# Counts\n",
    "#data[columns_1].groupby([partition]).sex.value_counts()"
   ]
  },
  {
   "cell_type": "markdown",
   "metadata": {},
   "source": [
    "##### Hypothesis test\n",
    "\n",
    "https://stats.stackexchange.com/questions/110718/chi-squared-test-with-scipy-whats-the-difference-between-chi2-contingency-and"
   ]
  },
  {
   "cell_type": "code",
   "execution_count": 89,
   "metadata": {},
   "outputs": [
    {
     "data": {
      "text/plain": [
       "0.039885902656203745"
      ]
     },
     "execution_count": 89,
     "metadata": {},
     "output_type": "execute_result"
    }
   ],
   "source": [
    "from scipy.stats import chi2_contingency \n",
    "\n",
    "cluster_1_data = data.loc[data[\"I\"] == \"I1\", \"sex\"].value_counts()\n",
    "cluster_2_data = data.loc[data[\"I\"] == \"I2\", \"sex\"].value_counts()\n",
    "\n",
    "cluster_1_data_array = [cluster_1_data[0], cluster_1_data[1]]\n",
    "cluster_2_data_array = [cluster_2_data[0], cluster_2_data[1]]\n",
    "contingency_table = [cluster_1_data_array, cluster_2_data_array]\n",
    "\n",
    "tat, p, dof, expected = chi2_contingency(contingency_table)\n",
    "p"
   ]
  }
 ],
 "metadata": {
  "kernelspec": {
   "display_name": "Python 3",
   "language": "python",
   "name": "python3"
  },
  "language_info": {
   "codemirror_mode": {
    "name": "ipython",
    "version": 3
   },
   "file_extension": ".py",
   "mimetype": "text/x-python",
   "name": "python",
   "nbconvert_exporter": "python",
   "pygments_lexer": "ipython3",
   "version": "3.8.3"
  }
 },
 "nbformat": 4,
 "nbformat_minor": 4
}
