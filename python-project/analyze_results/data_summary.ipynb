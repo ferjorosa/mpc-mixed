{
 "cells": [
  {
   "cell_type": "code",
   "execution_count": 2,
   "metadata": {},
   "outputs": [
    {
     "data": {
      "text/plain": [
       "(402, 22)"
      ]
     },
     "execution_count": 2,
     "metadata": {},
     "output_type": "execute_result"
    }
   ],
   "source": [
    "import pandas as pd\n",
    "import numpy as np\n",
    "\n",
    "# Load original data\n",
    "data = pd.read_csv(\"../../data/mds_parkinson/mds_parkinson_train.csv\", sep=\",\")\n",
    "data.shape"
   ]
  },
  {
   "cell_type": "code",
   "execution_count": 28,
   "metadata": {},
   "outputs": [],
   "source": [
    "motor_colummns = [\n",
    "    \"speech\",\n",
    "    \"rigidity\",\n",
    "    \"gait\",\n",
    "    \"freezing\",\n",
    "    \"postural_stability\",\n",
    "    \"tremor_post\",\n",
    "    \"tremor_kin\",\n",
    "    \"tremor_rest\",\n",
    "    \"bradykinesia\",\n",
    "    \"dyskinesias\",\n",
    "    \"motor_fluctuations\"\n",
    "]\n",
    "\n",
    "non_motor_columns = [\n",
    "    \"cardiovascular\",\n",
    "    \"sleep_fatigue\",\n",
    "    \"mood_cognition\",\n",
    "    \"hallucinations\",\n",
    "    \"attention_memory\",\n",
    "    \"gastrointestinal\",\n",
    "    \"urinary\",\n",
    "    \"sexual\",\n",
    "    \"smell\",\n",
    "    \"weight_change\",\n",
    "    \"sweating\"\n",
    "]\n",
    "\n",
    "motor_data = data[motor_colummns]\n",
    "non_motor_data = data[non_motor_columns]"
   ]
  },
  {
   "cell_type": "code",
   "execution_count": 29,
   "metadata": {},
   "outputs": [
    {
     "data": {
      "text/plain": [
       "count    402.000000\n",
       "mean       0.863184\n",
       "std        2.399852\n",
       "min        0.000000\n",
       "25%        0.000000\n",
       "50%        0.000000\n",
       "75%        0.000000\n",
       "max       12.000000\n",
       "Name: sweating, dtype: float64"
      ]
     },
     "execution_count": 29,
     "metadata": {},
     "output_type": "execute_result"
    }
   ],
   "source": [
    "non_motor_data[\"sweating\"].describe()"
   ]
  },
  {
   "cell_type": "code",
   "execution_count": 46,
   "metadata": {},
   "outputs": [
    {
     "data": {
      "text/plain": [
       "0.0    74.626866\n",
       "1.0    17.412935\n",
       "2.0     4.477612\n",
       "3.0     1.741294\n",
       "4.0     1.741294\n",
       "Name: dyskinesias, dtype: float64"
      ]
     },
     "execution_count": 46,
     "metadata": {},
     "output_type": "execute_result"
    }
   ],
   "source": [
    "motor_data[\"dyskinesias\"].value_counts()/402*100"
   ]
  }
 ],
 "metadata": {
  "kernelspec": {
   "display_name": "Python 3",
   "language": "python",
   "name": "python3"
  },
  "language_info": {
   "codemirror_mode": {
    "name": "ipython",
    "version": 3
   },
   "file_extension": ".py",
   "mimetype": "text/x-python",
   "name": "python",
   "nbconvert_exporter": "python",
   "pygments_lexer": "ipython3",
   "version": "3.7.7"
  }
 },
 "nbformat": 4,
 "nbformat_minor": 4
}
